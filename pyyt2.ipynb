{
 "cells": [
  {
   "cell_type": "markdown",
   "id": "e89fcc55",
   "metadata": {},
   "source": [
    "# DAY6"
   ]
  },
  {
   "cell_type": "code",
   "execution_count": 1,
   "id": "ce548435",
   "metadata": {},
   "outputs": [],
   "source": [
    "#for \n",
    "#while loop\n",
    "#nested loop"
   ]
  },
  {
   "cell_type": "code",
   "execution_count": 2,
   "id": "4e92b92c",
   "metadata": {},
   "outputs": [
    {
     "name": "stdout",
     "output_type": "stream",
     "text": [
      "current letter s\n",
      "current letter a\n",
      "current letter i\n",
      "current letter k\n",
      "current letter u\n",
      "current letter m\n",
      "current letter a\n",
      "current letter r\n"
     ]
    }
   ],
   "source": [
    "#for loops\n",
    "\n",
    "for letter in 'saikumar':\n",
    "    print('current letter', letter)"
   ]
  },
  {
   "cell_type": "code",
   "execution_count": 3,
   "id": "5f5cf3bb",
   "metadata": {},
   "outputs": [],
   "source": [
    "#example-2\n",
    "fruits = ['apple', 'kiwi', 'dragon fruit']"
   ]
  },
  {
   "cell_type": "code",
   "execution_count": 4,
   "id": "da3bb3ae",
   "metadata": {},
   "outputs": [
    {
     "name": "stdout",
     "output_type": "stream",
     "text": [
      "current fruit:  apple\n",
      "current fruit:  kiwi\n",
      "current fruit:  dragon fruit\n"
     ]
    }
   ],
   "source": [
    "for fruit in fruits:\n",
    "    print('current fruit: ', fruit)"
   ]
  },
  {
   "cell_type": "code",
   "execution_count": 5,
   "id": "0ae53a37",
   "metadata": {},
   "outputs": [
    {
     "data": {
      "text/plain": [
       "['apple', 'kiwi', 'dragon fruit']"
      ]
     },
     "execution_count": 5,
     "metadata": {},
     "output_type": "execute_result"
    }
   ],
   "source": [
    "fruits"
   ]
  },
  {
   "cell_type": "code",
   "execution_count": 6,
   "id": "bb7ffc01",
   "metadata": {},
   "outputs": [
    {
     "data": {
      "text/plain": [
       "'dragon fruit'"
      ]
     },
     "execution_count": 6,
     "metadata": {},
     "output_type": "execute_result"
    }
   ],
   "source": [
    "fruit"
   ]
  },
  {
   "cell_type": "code",
   "execution_count": 7,
   "id": "a148a240",
   "metadata": {},
   "outputs": [
    {
     "name": "stdout",
     "output_type": "stream",
     "text": [
      "5\n",
      "5\n",
      "5\n"
     ]
    }
   ],
   "source": [
    "#while loop\n",
    "#ex-1\n",
    "\n",
    "i = 1\n",
    "j = 3\n",
    "while i <=j:\n",
    "    print(\"5\")\n",
    "    i = i+1"
   ]
  },
  {
   "cell_type": "code",
   "execution_count": 8,
   "id": "754f99b1",
   "metadata": {},
   "outputs": [
    {
     "name": "stdout",
     "output_type": "stream",
     "text": [
      "this is false statment\n",
      "good byee!\n"
     ]
    }
   ],
   "source": [
    "#example-2\n",
    "\n",
    "notes = 5\n",
    "i = 6\n",
    "j = 1\n",
    "while i < notes:\n",
    "    print(i)\n",
    "    i += 1\n",
    "else:\n",
    "    while j < 2:\n",
    "        print(\"this is false statment\")\n",
    "        j = j+1\n",
    "    if(j> i/j):\n",
    "        print(i, \"is prime\")\n",
    "        i = i+1\n",
    "print(\"good byee!\")"
   ]
  },
  {
   "cell_type": "code",
   "execution_count": 9,
   "id": "8e43d5e6",
   "metadata": {},
   "outputs": [
    {
     "name": "stdout",
     "output_type": "stream",
     "text": [
      "2 is prime\n",
      "3 is prime\n",
      "5 is prime\n",
      "7 is prime\n",
      "11 is prime\n",
      "13 is prime\n",
      "17 is prime\n",
      "19 is prime\n",
      "23 is prime\n",
      "29 is prime\n",
      "31 is prime\n",
      "37 is prime\n",
      "41 is prime\n",
      "43 is prime\n",
      "47 is prime\n",
      "53 is prime\n",
      "59 is prime\n",
      "61 is prime\n",
      "67 is prime\n",
      "71 is prime\n",
      "73 is prime\n",
      "79 is prime\n",
      "83 is prime\n",
      "89 is prime\n",
      "97 is prime\n",
      "good bye!\n"
     ]
    }
   ],
   "source": [
    "#nested loop\n",
    "#example-2\n",
    "i =2\n",
    "while(i<100):\n",
    "    j = 2\n",
    "    while(j <= (i/j)):\n",
    "        if not(i%j):\n",
    "            break\n",
    "        j = j+1\n",
    "    if(j> i/j):\n",
    "        print(i, \"is prime\")\n",
    "    i = i+1\n",
    "    \n",
    "print(\"good bye!\")\n",
    "        \n"
   ]
  },
  {
   "cell_type": "markdown",
   "id": "66461fbb",
   "metadata": {},
   "source": [
    "# day 7"
   ]
  },
  {
   "cell_type": "code",
   "execution_count": 10,
   "id": "d7b7a3c3",
   "metadata": {},
   "outputs": [],
   "source": [
    "#lists - python"
   ]
  },
  {
   "cell_type": "code",
   "execution_count": 20,
   "id": "ea54e455",
   "metadata": {},
   "outputs": [
    {
     "data": {
      "text/plain": [
       "[]"
      ]
     },
     "execution_count": 20,
     "metadata": {},
     "output_type": "execute_result"
    }
   ],
   "source": [
    "[]"
   ]
  },
  {
   "cell_type": "code",
   "execution_count": 21,
   "id": "50b17dc3",
   "metadata": {},
   "outputs": [
    {
     "data": {
      "text/plain": [
       "list"
      ]
     },
     "execution_count": 21,
     "metadata": {},
     "output_type": "execute_result"
    }
   ],
   "source": [
    "type([])"
   ]
  },
  {
   "cell_type": "code",
   "execution_count": 23,
   "id": "65e6d88e",
   "metadata": {},
   "outputs": [],
   "source": [
    "lst = [1,2,3,4,5,'sai']"
   ]
  },
  {
   "cell_type": "code",
   "execution_count": 24,
   "id": "2c38a0f1",
   "metadata": {},
   "outputs": [
    {
     "data": {
      "text/plain": [
       "list"
      ]
     },
     "execution_count": 24,
     "metadata": {},
     "output_type": "execute_result"
    }
   ],
   "source": [
    "type(lst)"
   ]
  },
  {
   "cell_type": "code",
   "execution_count": 25,
   "id": "6f24c694",
   "metadata": {},
   "outputs": [
    {
     "data": {
      "text/plain": [
       "[1, 2, 3, 4, 5, 'sai']"
      ]
     },
     "execution_count": 25,
     "metadata": {},
     "output_type": "execute_result"
    }
   ],
   "source": [
    "lst"
   ]
  },
  {
   "cell_type": "code",
   "execution_count": 26,
   "id": "e4977534",
   "metadata": {},
   "outputs": [],
   "source": [
    "#sort\n",
    "lst1 = [1,5,6,9,2,4]"
   ]
  },
  {
   "cell_type": "code",
   "execution_count": 27,
   "id": "fa19d0bf",
   "metadata": {},
   "outputs": [
    {
     "data": {
      "text/plain": [
       "[1, 5, 6, 9, 2, 4]"
      ]
     },
     "execution_count": 27,
     "metadata": {},
     "output_type": "execute_result"
    }
   ],
   "source": [
    "lst1"
   ]
  },
  {
   "cell_type": "code",
   "execution_count": 28,
   "id": "da2ce754",
   "metadata": {},
   "outputs": [],
   "source": [
    "lst1.sort()"
   ]
  },
  {
   "cell_type": "code",
   "execution_count": 29,
   "id": "d1836c90",
   "metadata": {},
   "outputs": [
    {
     "data": {
      "text/plain": [
       "[1, 2, 4, 5, 6, 9]"
      ]
     },
     "execution_count": 29,
     "metadata": {},
     "output_type": "execute_result"
    }
   ],
   "source": [
    "lst1"
   ]
  },
  {
   "cell_type": "code",
   "execution_count": 30,
   "id": "e9c8f673",
   "metadata": {},
   "outputs": [],
   "source": [
    "#append\n",
    "lst1.append(7)"
   ]
  },
  {
   "cell_type": "code",
   "execution_count": 31,
   "id": "1bda3a37",
   "metadata": {},
   "outputs": [
    {
     "data": {
      "text/plain": [
       "[1, 2, 4, 5, 6, 9, 7]"
      ]
     },
     "execution_count": 31,
     "metadata": {},
     "output_type": "execute_result"
    }
   ],
   "source": [
    "lst1"
   ]
  },
  {
   "cell_type": "code",
   "execution_count": 37,
   "id": "b4c8496d",
   "metadata": {},
   "outputs": [],
   "source": [
    "lst2 = []"
   ]
  },
  {
   "cell_type": "code",
   "execution_count": 42,
   "id": "9b2b04b2",
   "metadata": {},
   "outputs": [],
   "source": [
    "lst2.append(1)"
   ]
  },
  {
   "cell_type": "code",
   "execution_count": 43,
   "id": "b8103975",
   "metadata": {},
   "outputs": [
    {
     "data": {
      "text/plain": [
       "[['sai', 'kumar'], 1]"
      ]
     },
     "execution_count": 43,
     "metadata": {},
     "output_type": "execute_result"
    }
   ],
   "source": [
    "lst2"
   ]
  },
  {
   "cell_type": "code",
   "execution_count": 44,
   "id": "126d5588",
   "metadata": {},
   "outputs": [],
   "source": [
    "#insert\n",
    "lst3 = [1,4,5,6]"
   ]
  },
  {
   "cell_type": "code",
   "execution_count": 54,
   "id": "2cfbb24f",
   "metadata": {},
   "outputs": [],
   "source": [
    "lst3.insert(2,3)"
   ]
  },
  {
   "cell_type": "code",
   "execution_count": 55,
   "id": "18160aa2",
   "metadata": {},
   "outputs": [
    {
     "data": {
      "text/plain": [
       "[1, 2, 3, 4, 5, 6]"
      ]
     },
     "execution_count": 55,
     "metadata": {},
     "output_type": "execute_result"
    }
   ],
   "source": [
    "lst3"
   ]
  },
  {
   "cell_type": "code",
   "execution_count": 47,
   "id": "6267298c",
   "metadata": {},
   "outputs": [],
   "source": [
    "#index\n",
    "lst = [1,2,3,4,5,6]"
   ]
  },
  {
   "cell_type": "code",
   "execution_count": 51,
   "id": "98346def",
   "metadata": {},
   "outputs": [
    {
     "data": {
      "text/plain": [
       "2"
      ]
     },
     "execution_count": 51,
     "metadata": {},
     "output_type": "execute_result"
    }
   ],
   "source": [
    "lst.index(3)"
   ]
  },
  {
   "cell_type": "code",
   "execution_count": 53,
   "id": "8f2a524e",
   "metadata": {},
   "outputs": [
    {
     "name": "stdout",
     "output_type": "stream",
     "text": [
      "5\n"
     ]
    }
   ],
   "source": [
    "print(lst[4])"
   ]
  },
  {
   "cell_type": "code",
   "execution_count": 56,
   "id": "c6d53398",
   "metadata": {},
   "outputs": [],
   "source": [
    "#reverse\n",
    "lst.reverse()"
   ]
  },
  {
   "cell_type": "code",
   "execution_count": 57,
   "id": "6562697d",
   "metadata": {},
   "outputs": [
    {
     "data": {
      "text/plain": [
       "[6, 5, 4, 3, 2, 1]"
      ]
     },
     "execution_count": 57,
     "metadata": {},
     "output_type": "execute_result"
    }
   ],
   "source": [
    "lst"
   ]
  },
  {
   "cell_type": "code",
   "execution_count": 60,
   "id": "03809c6d",
   "metadata": {},
   "outputs": [
    {
     "data": {
      "text/plain": [
       "5"
      ]
     },
     "execution_count": 60,
     "metadata": {},
     "output_type": "execute_result"
    }
   ],
   "source": [
    "lst.index(1)"
   ]
  },
  {
   "cell_type": "code",
   "execution_count": 61,
   "id": "0b904447",
   "metadata": {},
   "outputs": [],
   "source": [
    "#remove\n",
    "lst.remove(5)"
   ]
  },
  {
   "cell_type": "code",
   "execution_count": 62,
   "id": "de1067e7",
   "metadata": {},
   "outputs": [
    {
     "data": {
      "text/plain": [
       "[6, 4, 3, 2, 1]"
      ]
     },
     "execution_count": 62,
     "metadata": {},
     "output_type": "execute_result"
    }
   ],
   "source": [
    "lst"
   ]
  },
  {
   "cell_type": "code",
   "execution_count": 67,
   "id": "a3dbdc44",
   "metadata": {},
   "outputs": [
    {
     "data": {
      "text/plain": [
       "4"
      ]
     },
     "execution_count": 67,
     "metadata": {},
     "output_type": "execute_result"
    }
   ],
   "source": [
    "#pop()\n",
    "lst.pop(1)"
   ]
  },
  {
   "cell_type": "code",
   "execution_count": 68,
   "id": "111a9d1a",
   "metadata": {},
   "outputs": [
    {
     "data": {
      "text/plain": [
       "[6, 3]"
      ]
     },
     "execution_count": 68,
     "metadata": {},
     "output_type": "execute_result"
    }
   ],
   "source": [
    "lst"
   ]
  },
  {
   "cell_type": "code",
   "execution_count": 70,
   "id": "a2f0529f",
   "metadata": {},
   "outputs": [],
   "source": [
    "#clear\n",
    "lst.clear()"
   ]
  },
  {
   "cell_type": "code",
   "execution_count": 71,
   "id": "e06e78b6",
   "metadata": {},
   "outputs": [
    {
     "data": {
      "text/plain": [
       "[]"
      ]
     },
     "execution_count": 71,
     "metadata": {},
     "output_type": "execute_result"
    }
   ],
   "source": [
    "lst"
   ]
  },
  {
   "cell_type": "code",
   "execution_count": 72,
   "id": "369b85fa",
   "metadata": {},
   "outputs": [],
   "source": [
    "#extend\n",
    "lst = ['sai','kumar']"
   ]
  },
  {
   "cell_type": "code",
   "execution_count": 76,
   "id": "462177b7",
   "metadata": {},
   "outputs": [],
   "source": [
    "lst.extend('kumar')"
   ]
  },
  {
   "cell_type": "code",
   "execution_count": 77,
   "id": "01a5763f",
   "metadata": {},
   "outputs": [
    {
     "data": {
      "text/plain": [
       "['sai', 'kumar', 's', 'a', 'i', 'k', 'u', 'm', 'a', 'r']"
      ]
     },
     "execution_count": 77,
     "metadata": {},
     "output_type": "execute_result"
    }
   ],
   "source": [
    "lst"
   ]
  },
  {
   "cell_type": "code",
   "execution_count": 78,
   "id": "b387f23c",
   "metadata": {},
   "outputs": [
    {
     "data": {
      "text/plain": [
       "['sai', 'kumar', 's', 'a', 'i', 'k', 'u', 'm', 'a', 'r']"
      ]
     },
     "execution_count": 78,
     "metadata": {},
     "output_type": "execute_result"
    }
   ],
   "source": [
    "#copy\n",
    "lst.copy()"
   ]
  },
  {
   "cell_type": "code",
   "execution_count": 79,
   "id": "9e63d93d",
   "metadata": {},
   "outputs": [],
   "source": [
    "#count\n",
    "a = [1,1,2,2,2,2,2,4,5,6]"
   ]
  },
  {
   "cell_type": "code",
   "execution_count": 80,
   "id": "236f33e3",
   "metadata": {},
   "outputs": [
    {
     "data": {
      "text/plain": [
       "[1, 1, 2, 2, 2, 2, 2, 4, 5, 6]"
      ]
     },
     "execution_count": 80,
     "metadata": {},
     "output_type": "execute_result"
    }
   ],
   "source": [
    "a"
   ]
  },
  {
   "cell_type": "code",
   "execution_count": 82,
   "id": "b9060475",
   "metadata": {},
   "outputs": [
    {
     "data": {
      "text/plain": [
       "2"
      ]
     },
     "execution_count": 82,
     "metadata": {},
     "output_type": "execute_result"
    }
   ],
   "source": [
    "a.count(1)"
   ]
  },
  {
   "cell_type": "code",
   "execution_count": 84,
   "id": "a1d634e8",
   "metadata": {},
   "outputs": [
    {
     "data": {
      "text/plain": [
       "1"
      ]
     },
     "execution_count": 84,
     "metadata": {},
     "output_type": "execute_result"
    }
   ],
   "source": [
    "#min & max\n",
    "min(a)"
   ]
  },
  {
   "cell_type": "code",
   "execution_count": 85,
   "id": "157731b8",
   "metadata": {},
   "outputs": [
    {
     "data": {
      "text/plain": [
       "6"
      ]
     },
     "execution_count": 85,
     "metadata": {},
     "output_type": "execute_result"
    }
   ],
   "source": [
    "max(a)"
   ]
  },
  {
   "cell_type": "markdown",
   "id": "ec41c638",
   "metadata": {},
   "source": [
    "# day-8"
   ]
  },
  {
   "cell_type": "code",
   "execution_count": 86,
   "id": "5607bec0",
   "metadata": {},
   "outputs": [],
   "source": [
    "#set\n",
    "#dict\n",
    "#tuples\n"
   ]
  },
  {
   "cell_type": "code",
   "execution_count": 87,
   "id": "f56468cf",
   "metadata": {},
   "outputs": [],
   "source": [
    "#set\n",
    "a = set()"
   ]
  },
  {
   "cell_type": "code",
   "execution_count": 88,
   "id": "2cff73d7",
   "metadata": {},
   "outputs": [
    {
     "data": {
      "text/plain": [
       "set"
      ]
     },
     "execution_count": 88,
     "metadata": {},
     "output_type": "execute_result"
    }
   ],
   "source": [
    "type(a)"
   ]
  },
  {
   "cell_type": "code",
   "execution_count": 89,
   "id": "39aa3c93",
   "metadata": {},
   "outputs": [],
   "source": [
    "set_var = {1,2,3,4}"
   ]
  },
  {
   "cell_type": "code",
   "execution_count": 90,
   "id": "a6aa207d",
   "metadata": {},
   "outputs": [
    {
     "data": {
      "text/plain": [
       "set"
      ]
     },
     "execution_count": 90,
     "metadata": {},
     "output_type": "execute_result"
    }
   ],
   "source": [
    "type(set_var)"
   ]
  },
  {
   "cell_type": "code",
   "execution_count": 91,
   "id": "8f016fea",
   "metadata": {},
   "outputs": [],
   "source": [
    "set_var = {1,2,2,3,3,3,3,4}"
   ]
  },
  {
   "cell_type": "code",
   "execution_count": 92,
   "id": "2bcdde4b",
   "metadata": {},
   "outputs": [
    {
     "data": {
      "text/plain": [
       "{1, 2, 3, 4}"
      ]
     },
     "execution_count": 92,
     "metadata": {},
     "output_type": "execute_result"
    }
   ],
   "source": [
    "set_var"
   ]
  },
  {
   "cell_type": "code",
   "execution_count": 93,
   "id": "041aa341",
   "metadata": {},
   "outputs": [
    {
     "name": "stdout",
     "output_type": "stream",
     "text": [
      "{'amazon', 'flipkart'}\n"
     ]
    },
    {
     "data": {
      "text/plain": [
       "set"
      ]
     },
     "execution_count": 93,
     "metadata": {},
     "output_type": "execute_result"
    }
   ],
   "source": [
    "set_1 = {\"amazon\",\"flipkart\"}\n",
    "print(set_1)\n",
    "type(set_1)\n"
   ]
  },
  {
   "cell_type": "code",
   "execution_count": 94,
   "id": "585f3a2f",
   "metadata": {},
   "outputs": [],
   "source": [
    "#add\n",
    "set_1.add(\"Myntra\")"
   ]
  },
  {
   "cell_type": "code",
   "execution_count": 95,
   "id": "25bb43fb",
   "metadata": {},
   "outputs": [
    {
     "data": {
      "text/plain": [
       "{'Myntra', 'amazon', 'flipkart'}"
      ]
     },
     "execution_count": 95,
     "metadata": {},
     "output_type": "execute_result"
    }
   ],
   "source": [
    "set_1"
   ]
  },
  {
   "cell_type": "code",
   "execution_count": 96,
   "id": "eb89a0a0",
   "metadata": {},
   "outputs": [],
   "source": [
    "#difference\n",
    "\n",
    "set1 = {'Myntra', 'amazon', 'flipkart'}\n",
    "set2 = {'Myntra', 'amazon', 'flipkart','snapdeal','relience'}"
   ]
  },
  {
   "cell_type": "code",
   "execution_count": 97,
   "id": "b8b2a942",
   "metadata": {},
   "outputs": [
    {
     "data": {
      "text/plain": [
       "{'relience', 'snapdeal'}"
      ]
     },
     "execution_count": 97,
     "metadata": {},
     "output_type": "execute_result"
    }
   ],
   "source": [
    "set2.difference(set1)"
   ]
  },
  {
   "cell_type": "code",
   "execution_count": 98,
   "id": "059d0717",
   "metadata": {},
   "outputs": [],
   "source": [
    "set2.difference_update(set1)"
   ]
  },
  {
   "cell_type": "code",
   "execution_count": 99,
   "id": "46e55538",
   "metadata": {},
   "outputs": [
    {
     "data": {
      "text/plain": [
       "{'Myntra', 'amazon', 'flipkart'}"
      ]
     },
     "execution_count": 99,
     "metadata": {},
     "output_type": "execute_result"
    }
   ],
   "source": [
    "set1"
   ]
  },
  {
   "cell_type": "code",
   "execution_count": 100,
   "id": "b3bb49db",
   "metadata": {},
   "outputs": [
    {
     "data": {
      "text/plain": [
       "{'relience', 'snapdeal'}"
      ]
     },
     "execution_count": 100,
     "metadata": {},
     "output_type": "execute_result"
    }
   ],
   "source": [
    "set2"
   ]
  },
  {
   "cell_type": "code",
   "execution_count": 101,
   "id": "60f7f4cb",
   "metadata": {},
   "outputs": [
    {
     "data": {
      "text/plain": [
       "dict"
      ]
     },
     "execution_count": 101,
     "metadata": {},
     "output_type": "execute_result"
    }
   ],
   "source": [
    "#dict\n",
    "\n",
    "type({})"
   ]
  },
  {
   "cell_type": "code",
   "execution_count": 102,
   "id": "c5fbfd9e",
   "metadata": {},
   "outputs": [],
   "source": [
    "my_dict = {\"shop1\":\"amazon\", \"shop2\":\"flipkart\",\"shop3\":\"snapdeal\"}"
   ]
  },
  {
   "cell_type": "code",
   "execution_count": 103,
   "id": "5d281614",
   "metadata": {},
   "outputs": [
    {
     "data": {
      "text/plain": [
       "dict"
      ]
     },
     "execution_count": 103,
     "metadata": {},
     "output_type": "execute_result"
    }
   ],
   "source": [
    "type(my_dict)"
   ]
  },
  {
   "cell_type": "code",
   "execution_count": 104,
   "id": "b7c42a3c",
   "metadata": {},
   "outputs": [
    {
     "data": {
      "text/plain": [
       "'flipkart'"
      ]
     },
     "execution_count": 104,
     "metadata": {},
     "output_type": "execute_result"
    }
   ],
   "source": [
    "#indexing\n",
    "my_dict[\"shop2\"]"
   ]
  },
  {
   "cell_type": "code",
   "execution_count": 106,
   "id": "eec1aeb9",
   "metadata": {},
   "outputs": [
    {
     "name": "stdout",
     "output_type": "stream",
     "text": [
      "amazon\n",
      "flipkart\n",
      "snapdeal\n"
     ]
    }
   ],
   "source": [
    "for x in my_dict.values():\n",
    "    print(x)"
   ]
  },
  {
   "cell_type": "code",
   "execution_count": 107,
   "id": "47d9ee44",
   "metadata": {},
   "outputs": [],
   "source": [
    "#adding & updating dict\n",
    "my_dict['shop4'] = 'shopsy'"
   ]
  },
  {
   "cell_type": "code",
   "execution_count": 108,
   "id": "e32cf64a",
   "metadata": {},
   "outputs": [
    {
     "data": {
      "text/plain": [
       "{'shop1': 'amazon',\n",
       " 'shop2': 'flipkart',\n",
       " 'shop3': 'snapdeal',\n",
       " 'shop4': 'shopsy'}"
      ]
     },
     "execution_count": 108,
     "metadata": {},
     "output_type": "execute_result"
    }
   ],
   "source": [
    "my_dict"
   ]
  },
  {
   "cell_type": "code",
   "execution_count": 112,
   "id": "ec09ccf5",
   "metadata": {},
   "outputs": [],
   "source": [
    "#nested dict\n",
    "\n",
    "car1_model = {'audi':1991}\n",
    "car2_model = {'hundai':1981}\n",
    "car3_model = {'honda':1995}\n",
    "\n",
    "car_type = {'car1':car1_model, 'car2':car2_model, 'car3':car3_model}"
   ]
  },
  {
   "cell_type": "code",
   "execution_count": 113,
   "id": "d188ab2b",
   "metadata": {},
   "outputs": [
    {
     "data": {
      "text/plain": [
       "{'car1': {'audi': 1991}, 'car2': {'hundai': 1981}, 'car3': {'honda': 1995}}"
      ]
     },
     "execution_count": 113,
     "metadata": {},
     "output_type": "execute_result"
    }
   ],
   "source": [
    "car_type"
   ]
  },
  {
   "cell_type": "code",
   "execution_count": 114,
   "id": "15a63493",
   "metadata": {},
   "outputs": [
    {
     "name": "stdout",
     "output_type": "stream",
     "text": [
      "{'audi': 1991}\n"
     ]
    }
   ],
   "source": [
    "#accessing items\n",
    "print(car_type['car1'])"
   ]
  },
  {
   "cell_type": "code",
   "execution_count": 115,
   "id": "3e4e22d3",
   "metadata": {},
   "outputs": [
    {
     "name": "stdout",
     "output_type": "stream",
     "text": [
      "1991\n"
     ]
    }
   ],
   "source": [
    "print(car_type['car1']['audi'])"
   ]
  },
  {
   "cell_type": "code",
   "execution_count": 116,
   "id": "e8c57a7d",
   "metadata": {},
   "outputs": [],
   "source": [
    "#tuples\n",
    "\n",
    "my_tuple = tuple()"
   ]
  },
  {
   "cell_type": "code",
   "execution_count": 117,
   "id": "d7998653",
   "metadata": {},
   "outputs": [
    {
     "data": {
      "text/plain": [
       "tuple"
      ]
     },
     "execution_count": 117,
     "metadata": {},
     "output_type": "execute_result"
    }
   ],
   "source": [
    "#[], {},()\n",
    "type(my_tuple)"
   ]
  },
  {
   "cell_type": "code",
   "execution_count": 122,
   "id": "0daca015",
   "metadata": {},
   "outputs": [],
   "source": [
    "my_1 = ('abhi','sai','vinod','vinod','vinod')"
   ]
  },
  {
   "cell_type": "code",
   "execution_count": 119,
   "id": "4a28b8cd",
   "metadata": {},
   "outputs": [
    {
     "data": {
      "text/plain": [
       "'abhi'"
      ]
     },
     "execution_count": 119,
     "metadata": {},
     "output_type": "execute_result"
    }
   ],
   "source": [
    "my_1[0]"
   ]
  },
  {
   "cell_type": "code",
   "execution_count": 120,
   "id": "b3a7808b",
   "metadata": {},
   "outputs": [
    {
     "data": {
      "text/plain": [
       "2"
      ]
     },
     "execution_count": 120,
     "metadata": {},
     "output_type": "execute_result"
    }
   ],
   "source": [
    "my_1.index('vinod')"
   ]
  },
  {
   "cell_type": "code",
   "execution_count": 123,
   "id": "955011cf",
   "metadata": {},
   "outputs": [
    {
     "data": {
      "text/plain": [
       "3"
      ]
     },
     "execution_count": 123,
     "metadata": {},
     "output_type": "execute_result"
    }
   ],
   "source": [
    "my_1.count('vinod')"
   ]
  },
  {
   "cell_type": "markdown",
   "id": "24c8aec6",
   "metadata": {},
   "source": [
    "# day9"
   ]
  },
  {
   "cell_type": "code",
   "execution_count": 1,
   "id": "e1a7b171",
   "metadata": {},
   "outputs": [
    {
     "name": "stdout",
     "output_type": "stream",
     "text": [
      "odd\n"
     ]
    }
   ],
   "source": [
    "#functions in python\n",
    "\n",
    "num = 19\n",
    "\n",
    "if num%2==0:\n",
    "    print(\"even\")\n",
    "else:\n",
    "    print(\"odd\")"
   ]
  },
  {
   "cell_type": "code",
   "execution_count": 2,
   "id": "2376f0f5",
   "metadata": {},
   "outputs": [],
   "source": [
    "def even_odd(num):\n",
    "    if num%2==0:\n",
    "        print(\"even\")\n",
    "    else:\n",
    "        print(\"odd\")\n",
    "    "
   ]
  },
  {
   "cell_type": "code",
   "execution_count": 5,
   "id": "ddc0809a",
   "metadata": {},
   "outputs": [
    {
     "name": "stdout",
     "output_type": "stream",
     "text": [
      "odd\n"
     ]
    }
   ],
   "source": [
    "even_odd(19)"
   ]
  },
  {
   "cell_type": "code",
   "execution_count": 6,
   "id": "48bd0cf4",
   "metadata": {},
   "outputs": [],
   "source": [
    "#print vs return\n",
    "\n",
    "def hey_subscriber():\n",
    "    print(\"subscribe my channel\")"
   ]
  },
  {
   "cell_type": "code",
   "execution_count": 8,
   "id": "da799332",
   "metadata": {},
   "outputs": [
    {
     "name": "stdout",
     "output_type": "stream",
     "text": [
      "subscribe my channel\n"
     ]
    }
   ],
   "source": [
    "hey_subscriber()"
   ]
  },
  {
   "cell_type": "code",
   "execution_count": 9,
   "id": "a8967ed0",
   "metadata": {},
   "outputs": [
    {
     "name": "stdout",
     "output_type": "stream",
     "text": [
      "subscribe my channel\n"
     ]
    }
   ],
   "source": [
    "val = hey_subscriber()"
   ]
  },
  {
   "cell_type": "code",
   "execution_count": 10,
   "id": "b0275df8",
   "metadata": {},
   "outputs": [
    {
     "name": "stdout",
     "output_type": "stream",
     "text": [
      "None\n"
     ]
    }
   ],
   "source": [
    "print(val)"
   ]
  },
  {
   "cell_type": "code",
   "execution_count": 14,
   "id": "7bffe86d",
   "metadata": {},
   "outputs": [],
   "source": [
    "#return\n",
    "\n",
    "def add_num(num1,num2):\n",
    "    return num1+num2"
   ]
  },
  {
   "cell_type": "code",
   "execution_count": 15,
   "id": "33a272ad",
   "metadata": {},
   "outputs": [],
   "source": [
    "val = add_num(25,25)"
   ]
  },
  {
   "cell_type": "code",
   "execution_count": 16,
   "id": "f85e0013",
   "metadata": {},
   "outputs": [
    {
     "name": "stdout",
     "output_type": "stream",
     "text": [
      "50\n"
     ]
    }
   ],
   "source": [
    "print(val)"
   ]
  },
  {
   "cell_type": "code",
   "execution_count": 17,
   "id": "135fd017",
   "metadata": {},
   "outputs": [
    {
     "data": {
      "text/plain": [
       "50"
      ]
     },
     "execution_count": 17,
     "metadata": {},
     "output_type": "execute_result"
    }
   ],
   "source": [
    "val"
   ]
  },
  {
   "cell_type": "code",
   "execution_count": 20,
   "id": "c34cb954",
   "metadata": {},
   "outputs": [],
   "source": [
    "#positional & Keyword arguments\n",
    "def yt(name, sub=0):\n",
    "    print(\"my Youtube channel name is {} and its subscribers are {}\".format(name,sub))"
   ]
  },
  {
   "cell_type": "code",
   "execution_count": 25,
   "id": "ef142ff6",
   "metadata": {},
   "outputs": [
    {
     "name": "stdout",
     "output_type": "stream",
     "text": [
      "my Youtube channel name is saikumarreddy and its subscribers are 127\n"
     ]
    }
   ],
   "source": [
    "yt('saikumarreddy', 127 )"
   ]
  },
  {
   "cell_type": "code",
   "execution_count": 26,
   "id": "0cdb33ec",
   "metadata": {},
   "outputs": [],
   "source": [
    "#   *args , **kwargs\n",
    "\n",
    "#example\n",
    "def hello(*args, **kwargs):\n",
    "    print(args)\n",
    "    print(kwargs)"
   ]
  },
  {
   "cell_type": "code",
   "execution_count": 29,
   "id": "4e0e929c",
   "metadata": {},
   "outputs": [
    {
     "name": "stdout",
     "output_type": "stream",
     "text": [
      "('vinod', 'ravi', 'abhi')\n",
      "{'mysub': 127, 'comm': 20, 'views': 1020}\n"
     ]
    }
   ],
   "source": [
    "hello(\"vinod\",\"ravi\",\"abhi\",mysub = 127, comm = 20, views = 1020)"
   ]
  },
  {
   "cell_type": "code",
   "execution_count": 30,
   "id": "cfcc3c98",
   "metadata": {},
   "outputs": [],
   "source": [
    "#opt2\n",
    "lst = ['vinod', 'ravi', 'abhi']\n",
    "dict_1 = {'mysub': 127, 'comm': 20, 'views': 1020}"
   ]
  },
  {
   "cell_type": "code",
   "execution_count": 32,
   "id": "85ffeea1",
   "metadata": {},
   "outputs": [
    {
     "name": "stdout",
     "output_type": "stream",
     "text": [
      "('vinod', 'ravi', 'abhi')\n",
      "{'mysub': 127, 'comm': 20, 'views': 1020}\n"
     ]
    }
   ],
   "source": [
    "hello(*lst,**dict_1)"
   ]
  },
  {
   "cell_type": "code",
   "execution_count": 33,
   "id": "f7dece0e",
   "metadata": {},
   "outputs": [],
   "source": [
    "lst = [1,2,3,4,5,6,7,8,9]"
   ]
  },
  {
   "cell_type": "code",
   "execution_count": 36,
   "id": "1c01bd9e",
   "metadata": {},
   "outputs": [],
   "source": [
    "#situation based..\n",
    "\n",
    "def evenoddsum(lst):\n",
    "    even_sum = 0\n",
    "    odd_sum = 0\n",
    "    for i in lst:\n",
    "        if i%2==0:\n",
    "            even_sum=even_sum+i\n",
    "        else:\n",
    "            odd_sum = odd_sum+i\n",
    "    return even_sum, odd_sum"
   ]
  },
  {
   "cell_type": "code",
   "execution_count": 37,
   "id": "9f568158",
   "metadata": {},
   "outputs": [
    {
     "data": {
      "text/plain": [
       "(20, 25)"
      ]
     },
     "execution_count": 37,
     "metadata": {},
     "output_type": "execute_result"
    }
   ],
   "source": [
    "evenoddsum(lst)"
   ]
  },
  {
   "cell_type": "markdown",
   "id": "baf20f53",
   "metadata": {},
   "source": [
    "# day- 10"
   ]
  },
  {
   "cell_type": "code",
   "execution_count": null,
   "id": "da7d017b",
   "metadata": {},
   "outputs": [],
   "source": [
    "#lambda function..\n",
    "\n",
    "Syntax:\n",
    "    lambda arguments : expression"
   ]
  },
  {
   "cell_type": "code",
   "execution_count": 1,
   "id": "3def53f8",
   "metadata": {},
   "outputs": [],
   "source": [
    "#example-1\n",
    "\n",
    "x = lambda a:a+10"
   ]
  },
  {
   "cell_type": "code",
   "execution_count": 2,
   "id": "86117941",
   "metadata": {},
   "outputs": [
    {
     "name": "stdout",
     "output_type": "stream",
     "text": [
      "15\n"
     ]
    }
   ],
   "source": [
    "print(x(5))"
   ]
  },
  {
   "cell_type": "code",
   "execution_count": 4,
   "id": "65bcea1d",
   "metadata": {},
   "outputs": [
    {
     "name": "stdout",
     "output_type": "stream",
     "text": [
      "30\n"
     ]
    }
   ],
   "source": [
    "#example-2\n",
    "\n",
    "x = lambda a,b : a * b\n",
    "print(x(5,6))"
   ]
  },
  {
   "cell_type": "code",
   "execution_count": 6,
   "id": "b83e22af",
   "metadata": {},
   "outputs": [
    {
     "name": "stdout",
     "output_type": "stream",
     "text": [
      "22\n"
     ]
    }
   ],
   "source": [
    "# def example of lambda\n",
    "\n",
    "def func(n):\n",
    "    return lambda a : a * n\n",
    "double = func(2)\n",
    "print(double(11))"
   ]
  },
  {
   "cell_type": "code",
   "execution_count": 7,
   "id": "0e723ff9",
   "metadata": {},
   "outputs": [
    {
     "name": "stdout",
     "output_type": "stream",
     "text": [
      "22\n",
      "33\n"
     ]
    }
   ],
   "source": [
    "def func(n):\n",
    "    return lambda a : a * n\n",
    "double = func(2)\n",
    "triple = func(3)\n",
    "\n",
    "print(double(11))\n",
    "print(triple(11))"
   ]
  },
  {
   "cell_type": "markdown",
   "id": "39a8e6ed",
   "metadata": {},
   "source": [
    "# day-11 "
   ]
  },
  {
   "cell_type": "code",
   "execution_count": null,
   "id": "707e8ef1",
   "metadata": {},
   "outputs": [],
   "source": [
    "#Map function\n",
    "\n",
    "synatx:\n",
    "    map(function, iterables)"
   ]
  },
  {
   "cell_type": "code",
   "execution_count": 8,
   "id": "53cc2a73",
   "metadata": {},
   "outputs": [],
   "source": [
    "def even_odd(num):\n",
    "    if num%2==0:\n",
    "        return \"The number is odd\"\n",
    "    else:\n",
    "        return \"the number is even\""
   ]
  },
  {
   "cell_type": "code",
   "execution_count": 10,
   "id": "394cfde8",
   "metadata": {},
   "outputs": [
    {
     "data": {
      "text/plain": [
       "'the number is even'"
      ]
     },
     "execution_count": 10,
     "metadata": {},
     "output_type": "execute_result"
    }
   ],
   "source": [
    "even_odd(23)"
   ]
  },
  {
   "cell_type": "code",
   "execution_count": 20,
   "id": "77ffc915",
   "metadata": {},
   "outputs": [],
   "source": [
    "def even_odd(num):\n",
    "    if num%2==0:\n",
    "        return \"The number {} is odd\".format(num)\n",
    "    else:\n",
    "        return \"the number {} is even\".format(num)"
   ]
  },
  {
   "cell_type": "code",
   "execution_count": 14,
   "id": "717d04c2",
   "metadata": {},
   "outputs": [
    {
     "data": {
      "text/plain": [
       "'the number 23 is even'"
      ]
     },
     "execution_count": 14,
     "metadata": {},
     "output_type": "execute_result"
    }
   ],
   "source": [
    "even_odd(23)"
   ]
  },
  {
   "cell_type": "code",
   "execution_count": 15,
   "id": "46132d01",
   "metadata": {},
   "outputs": [],
   "source": [
    "def mapf(a,b):\n",
    "    return a + b"
   ]
  },
  {
   "cell_type": "code",
   "execution_count": 17,
   "id": "3ef877e0",
   "metadata": {},
   "outputs": [],
   "source": [
    "#map to list convertion..\n",
    "x = map(mapf, ('apple','banana','cherry'),('kiwi','dragon fruit','lemon'))"
   ]
  },
  {
   "cell_type": "code",
   "execution_count": 19,
   "id": "cf6dbebd",
   "metadata": {},
   "outputs": [
    {
     "name": "stdout",
     "output_type": "stream",
     "text": [
      "['applekiwi', 'bananadragon fruit', 'cherrylemon']\n"
     ]
    }
   ],
   "source": [
    "print(list(x))"
   ]
  },
  {
   "cell_type": "code",
   "execution_count": 21,
   "id": "6e2a395b",
   "metadata": {},
   "outputs": [],
   "source": [
    "lst = [1,2,3,4,5,6,7,8,9,24,56,78]"
   ]
  },
  {
   "cell_type": "code",
   "execution_count": 22,
   "id": "33ac3336",
   "metadata": {},
   "outputs": [
    {
     "data": {
      "text/plain": [
       "['the number 1 is even',\n",
       " 'The number 2 is odd',\n",
       " 'the number 3 is even',\n",
       " 'The number 4 is odd',\n",
       " 'the number 5 is even',\n",
       " 'The number 6 is odd',\n",
       " 'the number 7 is even',\n",
       " 'The number 8 is odd',\n",
       " 'the number 9 is even',\n",
       " 'The number 24 is odd',\n",
       " 'The number 56 is odd',\n",
       " 'The number 78 is odd']"
      ]
     },
     "execution_count": 22,
     "metadata": {},
     "output_type": "execute_result"
    }
   ],
   "source": [
    "list(map(even_odd,lst))"
   ]
  },
  {
   "cell_type": "code",
   "execution_count": null,
   "id": "542f767c",
   "metadata": {},
   "outputs": [],
   "source": []
  }
 ],
 "metadata": {
  "kernelspec": {
   "display_name": "Python 3 (ipykernel)",
   "language": "python",
   "name": "python3"
  },
  "language_info": {
   "codemirror_mode": {
    "name": "ipython",
    "version": 3
   },
   "file_extension": ".py",
   "mimetype": "text/x-python",
   "name": "python",
   "nbconvert_exporter": "python",
   "pygments_lexer": "ipython3",
   "version": "3.9.12"
  }
 },
 "nbformat": 4,
 "nbformat_minor": 5
}
