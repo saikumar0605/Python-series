{
 "cells": [
  {
   "cell_type": "markdown",
   "id": "1d07b174",
   "metadata": {},
   "source": [
    "# Filter Function video - 12"
   ]
  },
  {
   "cell_type": "code",
   "execution_count": 1,
   "id": "6cb9d811",
   "metadata": {},
   "outputs": [],
   "source": [
    "#example of filter function"
   ]
  },
  {
   "cell_type": "code",
   "execution_count": 11,
   "id": "82873f88",
   "metadata": {},
   "outputs": [],
   "source": [
    "def odd_eve(num):\n",
    "    if num%2==0:\n",
    "        return True"
   ]
  },
  {
   "cell_type": "code",
   "execution_count": 12,
   "id": "06269da2",
   "metadata": {},
   "outputs": [],
   "source": [
    "lst = [1,2,3,4,5,6,7,8,9]"
   ]
  },
  {
   "cell_type": "code",
   "execution_count": 13,
   "id": "91f4403b",
   "metadata": {},
   "outputs": [
    {
     "data": {
      "text/plain": [
       "[2, 4, 6, 8]"
      ]
     },
     "execution_count": 13,
     "metadata": {},
     "output_type": "execute_result"
    }
   ],
   "source": [
    "list(filter(odd_eve,lst))"
   ]
  },
  {
   "cell_type": "code",
   "execution_count": 14,
   "id": "c591daa7",
   "metadata": {},
   "outputs": [
    {
     "data": {
      "text/plain": [
       "[2, 4, 6, 8]"
      ]
     },
     "execution_count": 14,
     "metadata": {},
     "output_type": "execute_result"
    }
   ],
   "source": [
    "#lambda using filter\n",
    "\n",
    "list(filter(lambda num: num%2==0,lst))"
   ]
  },
  {
   "cell_type": "code",
   "execution_count": 15,
   "id": "1b433fe8",
   "metadata": {},
   "outputs": [
    {
     "data": {
      "text/plain": [
       "[False, True, False, True, False, True, False, True, False]"
      ]
     },
     "execution_count": 15,
     "metadata": {},
     "output_type": "execute_result"
    }
   ],
   "source": [
    "list(map(lambda num: num%2==0,lst))"
   ]
  },
  {
   "cell_type": "markdown",
   "id": "5f002292",
   "metadata": {},
   "source": [
    "# VIDEO-13"
   ]
  },
  {
   "cell_type": "code",
   "execution_count": 1,
   "id": "9974db28",
   "metadata": {},
   "outputs": [],
   "source": [
    "#list comprension...\n",
    "lst = [1,2,3,4,5,6,7,8,9]"
   ]
  },
  {
   "cell_type": "code",
   "execution_count": 4,
   "id": "7d821253",
   "metadata": {},
   "outputs": [
    {
     "data": {
      "text/plain": [
       "[1, 4, 9, 16, 25, 36, 49, 64, 81]"
      ]
     },
     "execution_count": 4,
     "metadata": {},
     "output_type": "execute_result"
    }
   ],
   "source": [
    "[i*i for i in lst]"
   ]
  },
  {
   "cell_type": "code",
   "execution_count": 5,
   "id": "5103eb17",
   "metadata": {},
   "outputs": [],
   "source": [
    "lst1 = [i*i for i in lst if i%2==0] "
   ]
  },
  {
   "cell_type": "code",
   "execution_count": 6,
   "id": "eb69e314",
   "metadata": {},
   "outputs": [
    {
     "data": {
      "text/plain": [
       "[4, 16, 36, 64]"
      ]
     },
     "execution_count": 6,
     "metadata": {},
     "output_type": "execute_result"
    }
   ],
   "source": [
    "lst1"
   ]
  },
  {
   "cell_type": "code",
   "execution_count": 7,
   "id": "c800b9ed",
   "metadata": {},
   "outputs": [],
   "source": [
    "#ex-2 lst comp\n",
    "lst2 = [1,2,3,4,5,6,7,8,9]"
   ]
  },
  {
   "cell_type": "code",
   "execution_count": 8,
   "id": "fb190a3d",
   "metadata": {},
   "outputs": [
    {
     "data": {
      "text/plain": [
       "[3, 6, 9]"
      ]
     },
     "execution_count": 8,
     "metadata": {},
     "output_type": "execute_result"
    }
   ],
   "source": [
    "[i for i in lst2 if i%3==0]"
   ]
  },
  {
   "cell_type": "code",
   "execution_count": 9,
   "id": "299861ea",
   "metadata": {},
   "outputs": [],
   "source": [
    "#dict comprension..\n",
    "dict1 = {x:x**2 for x in [1,2,3,4,5,6]}"
   ]
  },
  {
   "cell_type": "code",
   "execution_count": 10,
   "id": "974c975e",
   "metadata": {},
   "outputs": [
    {
     "data": {
      "text/plain": [
       "{1: 1, 2: 4, 3: 9, 4: 16, 5: 25, 6: 36}"
      ]
     },
     "execution_count": 10,
     "metadata": {},
     "output_type": "execute_result"
    }
   ],
   "source": [
    "dict1"
   ]
  },
  {
   "cell_type": "code",
   "execution_count": 11,
   "id": "ea178102",
   "metadata": {},
   "outputs": [],
   "source": [
    "#dict examp-2\n",
    "dict2 = {'a':6, 'b':65, 'A':6}"
   ]
  },
  {
   "cell_type": "code",
   "execution_count": 13,
   "id": "11b26bb5",
   "metadata": {},
   "outputs": [
    {
     "data": {
      "text/plain": [
       "{'A': 12, 'B': 65}"
      ]
     },
     "execution_count": 13,
     "metadata": {},
     "output_type": "execute_result"
    }
   ],
   "source": [
    "{l.upper():dict2.get(l.lower(),0)+dict2.get(l.upper(),0) for l in dict2.keys()}"
   ]
  },
  {
   "cell_type": "code",
   "execution_count": 14,
   "id": "d3c81c90",
   "metadata": {},
   "outputs": [],
   "source": [
    "#set comp....\n",
    "squ = {x for x in [1,2,3,4,5,1,2,3,4,5,3,4,2,]}"
   ]
  },
  {
   "cell_type": "code",
   "execution_count": 15,
   "id": "2a6361f3",
   "metadata": {},
   "outputs": [
    {
     "data": {
      "text/plain": [
       "{1, 2, 3, 4, 5}"
      ]
     },
     "execution_count": 15,
     "metadata": {},
     "output_type": "execute_result"
    }
   ],
   "source": [
    "squ"
   ]
  },
  {
   "cell_type": "markdown",
   "id": "587fab70",
   "metadata": {},
   "source": [
    "# Video-13"
   ]
  },
  {
   "cell_type": "markdown",
   "id": "895a2e37",
   "metadata": {},
   "source": [
    "String formatting...\n",
    "\n",
    "The format() method formats the specified value(s) and insert them inside the string's placeholder.\n",
    "\n",
    "The placeholder is defined using curly brackets: {}. Read more about the placeholders in the Placeholder section below.\n",
    "    "
   ]
  },
  {
   "cell_type": "code",
   "execution_count": 1,
   "id": "b2d025e0",
   "metadata": {},
   "outputs": [],
   "source": [
    "#syntax...\n",
    "#string.format(value1, value2...)"
   ]
  },
  {
   "cell_type": "code",
   "execution_count": 2,
   "id": "bb99653c",
   "metadata": {},
   "outputs": [
    {
     "name": "stdout",
     "output_type": "stream",
     "text": [
      "Hello subscribers\n"
     ]
    }
   ],
   "source": [
    "print(\"Hello subscribers\")"
   ]
  },
  {
   "cell_type": "code",
   "execution_count": 6,
   "id": "3fda4ebd",
   "metadata": {},
   "outputs": [],
   "source": [
    "#examp1:\n",
    "\n",
    "def sub(name):\n",
    "    return \"Hello {}. thankyou for subscribing\".format(name)"
   ]
  },
  {
   "cell_type": "code",
   "execution_count": 7,
   "id": "cf015a69",
   "metadata": {},
   "outputs": [
    {
     "data": {
      "text/plain": [
       "'Hello viewers. thankyou for subscribing'"
      ]
     },
     "execution_count": 7,
     "metadata": {},
     "output_type": "execute_result"
    }
   ],
   "source": [
    "sub('viewers')"
   ]
  },
  {
   "cell_type": "code",
   "execution_count": 12,
   "id": "6ae8a2d1",
   "metadata": {},
   "outputs": [],
   "source": [
    "#example-2\n",
    "def hotel(name,room):\n",
    "    return \"Hello {}. your room number is {}.\".format(name,room)"
   ]
  },
  {
   "cell_type": "code",
   "execution_count": 13,
   "id": "1cf69229",
   "metadata": {},
   "outputs": [
    {
     "data": {
      "text/plain": [
       "'Hello vinod. your room number is 200.'"
      ]
     },
     "execution_count": 13,
     "metadata": {},
     "output_type": "execute_result"
    }
   ],
   "source": [
    "hotel(\"vinod\",200)"
   ]
  },
  {
   "cell_type": "code",
   "execution_count": 16,
   "id": "15402e63",
   "metadata": {},
   "outputs": [],
   "source": [
    "#example-3\n",
    "def hotel(name,room):\n",
    "    return \"Hello {name}. your room number is {room}.\".format(room=room,name=name)"
   ]
  },
  {
   "cell_type": "code",
   "execution_count": 17,
   "id": "c2783599",
   "metadata": {},
   "outputs": [
    {
     "data": {
      "text/plain": [
       "'Hello abhi. your room number is 120.'"
      ]
     },
     "execution_count": 17,
     "metadata": {},
     "output_type": "execute_result"
    }
   ],
   "source": [
    "hotel(\"abhi\",120)"
   ]
  },
  {
   "cell_type": "markdown",
   "id": "0a6e165e",
   "metadata": {},
   "source": [
    "# Video-14"
   ]
  },
  {
   "cell_type": "markdown",
   "id": "2d310673",
   "metadata": {},
   "source": [
    "# Iterables vs iterators"
   ]
  },
  {
   "cell_type": "code",
   "execution_count": 18,
   "id": "0e8397bb",
   "metadata": {},
   "outputs": [],
   "source": [
    "#iterables..\n",
    "\n",
    "#example of iterables..\n",
    "lst = [1,2,3,4,5,6]"
   ]
  },
  {
   "cell_type": "code",
   "execution_count": 19,
   "id": "63c084e8",
   "metadata": {},
   "outputs": [
    {
     "name": "stdout",
     "output_type": "stream",
     "text": [
      "1\n",
      "2\n",
      "3\n",
      "4\n",
      "5\n",
      "6\n"
     ]
    }
   ],
   "source": [
    "for i in lst:\n",
    "    print(i)"
   ]
  },
  {
   "cell_type": "code",
   "execution_count": 20,
   "id": "c3aa23f8",
   "metadata": {},
   "outputs": [],
   "source": [
    "#iterators..\n",
    "lst1 = [1,2,3,4,5,6]"
   ]
  },
  {
   "cell_type": "code",
   "execution_count": 30,
   "id": "70127ed5",
   "metadata": {},
   "outputs": [],
   "source": [
    "l = iter(lst1)"
   ]
  },
  {
   "cell_type": "code",
   "execution_count": 22,
   "id": "ed0ea43e",
   "metadata": {},
   "outputs": [
    {
     "data": {
      "text/plain": [
       "<list_iterator at 0x16e493656d0>"
      ]
     },
     "execution_count": 22,
     "metadata": {},
     "output_type": "execute_result"
    }
   ],
   "source": [
    "l"
   ]
  },
  {
   "cell_type": "code",
   "execution_count": 31,
   "id": "6e28d6b1",
   "metadata": {},
   "outputs": [
    {
     "data": {
      "text/plain": [
       "1"
      ]
     },
     "execution_count": 31,
     "metadata": {},
     "output_type": "execute_result"
    }
   ],
   "source": [
    "next(l)"
   ]
  },
  {
   "cell_type": "code",
   "execution_count": 32,
   "id": "cad7690d",
   "metadata": {},
   "outputs": [
    {
     "name": "stdout",
     "output_type": "stream",
     "text": [
      "2\n",
      "3\n",
      "4\n",
      "5\n",
      "6\n"
     ]
    }
   ],
   "source": [
    "for i in l:\n",
    "    print(i)"
   ]
  },
  {
   "cell_type": "markdown",
   "id": "189c26f4",
   "metadata": {},
   "source": [
    "# Video-15"
   ]
  },
  {
   "cell_type": "markdown",
   "id": "c818a5ac",
   "metadata": {},
   "source": [
    "# Iterators vs Generators"
   ]
  },
  {
   "cell_type": "code",
   "execution_count": 33,
   "id": "05376462",
   "metadata": {},
   "outputs": [],
   "source": [
    "#iterators..\n",
    "lst = [1,2,3]\n",
    "l = iter(lst)"
   ]
  },
  {
   "cell_type": "code",
   "execution_count": 34,
   "id": "506094c6",
   "metadata": {},
   "outputs": [
    {
     "data": {
      "text/plain": [
       "<list_iterator at 0x16e4935a3d0>"
      ]
     },
     "execution_count": 34,
     "metadata": {},
     "output_type": "execute_result"
    }
   ],
   "source": [
    "l"
   ]
  },
  {
   "cell_type": "code",
   "execution_count": 38,
   "id": "af1c51a9",
   "metadata": {},
   "outputs": [
    {
     "ename": "StopIteration",
     "evalue": "",
     "output_type": "error",
     "traceback": [
      "\u001b[1;31m---------------------------------------------------------------------------\u001b[0m",
      "\u001b[1;31mStopIteration\u001b[0m                             Traceback (most recent call last)",
      "Input \u001b[1;32mIn [38]\u001b[0m, in \u001b[0;36m<cell line: 1>\u001b[1;34m()\u001b[0m\n\u001b[1;32m----> 1\u001b[0m \u001b[38;5;28;43mnext\u001b[39;49m\u001b[43m(\u001b[49m\u001b[43ml\u001b[49m\u001b[43m)\u001b[49m\n",
      "\u001b[1;31mStopIteration\u001b[0m: "
     ]
    }
   ],
   "source": [
    "next(l)"
   ]
  },
  {
   "cell_type": "code",
   "execution_count": 42,
   "id": "919fc31c",
   "metadata": {},
   "outputs": [],
   "source": [
    "#generators...\n",
    "def square(n):\n",
    "    for i in range(n):\n",
    "        yield i**2"
   ]
  },
  {
   "cell_type": "code",
   "execution_count": 49,
   "id": "81ad3d79",
   "metadata": {},
   "outputs": [
    {
     "name": "stdout",
     "output_type": "stream",
     "text": [
      "0\n",
      "1\n",
      "4\n",
      "9\n",
      "16\n",
      "25\n",
      "36\n",
      "49\n",
      "64\n",
      "81\n",
      "100\n",
      "121\n",
      "144\n",
      "169\n",
      "196\n",
      "225\n",
      "256\n",
      "289\n",
      "324\n",
      "361\n"
     ]
    }
   ],
   "source": [
    "for i in square(2000):\n",
    "    print(i)"
   ]
  },
  {
   "cell_type": "code",
   "execution_count": 50,
   "id": "9ad878ff",
   "metadata": {},
   "outputs": [],
   "source": [
    "a = square(4)"
   ]
  },
  {
   "cell_type": "code",
   "execution_count": 55,
   "id": "72fcee7f",
   "metadata": {},
   "outputs": [
    {
     "ename": "StopIteration",
     "evalue": "",
     "output_type": "error",
     "traceback": [
      "\u001b[1;31m---------------------------------------------------------------------------\u001b[0m",
      "\u001b[1;31mStopIteration\u001b[0m                             Traceback (most recent call last)",
      "Input \u001b[1;32mIn [55]\u001b[0m, in \u001b[0;36m<cell line: 1>\u001b[1;34m()\u001b[0m\n\u001b[1;32m----> 1\u001b[0m \u001b[38;5;28;43mnext\u001b[39;49m\u001b[43m(\u001b[49m\u001b[43ma\u001b[49m\u001b[43m)\u001b[49m\n",
      "\u001b[1;31mStopIteration\u001b[0m: "
     ]
    }
   ],
   "source": [
    "next(a)"
   ]
  },
  {
   "cell_type": "code",
   "execution_count": null,
   "id": "68dfb4e0",
   "metadata": {},
   "outputs": [],
   "source": []
  },
  {
   "cell_type": "code",
   "execution_count": null,
   "id": "a71a9b6e",
   "metadata": {},
   "outputs": [],
   "source": []
  }
 ],
 "metadata": {
  "kernelspec": {
   "display_name": "Python 3 (ipykernel)",
   "language": "python",
   "name": "python3"
  },
  "language_info": {
   "codemirror_mode": {
    "name": "ipython",
    "version": 3
   },
   "file_extension": ".py",
   "mimetype": "text/x-python",
   "name": "python",
   "nbconvert_exporter": "python",
   "pygments_lexer": "ipython3",
   "version": "3.9.12"
  }
 },
 "nbformat": 4,
 "nbformat_minor": 5
}
