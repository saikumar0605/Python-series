{
 "cells": [
  {
   "cell_type": "markdown",
   "id": "a0cbc315",
   "metadata": {},
   "source": [
    "# oop's In Python"
   ]
  },
  {
   "cell_type": "code",
   "execution_count": 3,
   "id": "71a8ce3c",
   "metadata": {},
   "outputs": [],
   "source": [
    "#classes & objects\n"
   ]
  },
  {
   "cell_type": "code",
   "execution_count": 8,
   "id": "988baa41",
   "metadata": {},
   "outputs": [],
   "source": [
    "a = 10"
   ]
  },
  {
   "cell_type": "code",
   "execution_count": 9,
   "id": "0cf90b8f",
   "metadata": {},
   "outputs": [
    {
     "name": "stdout",
     "output_type": "stream",
     "text": [
      "<class 'int'>\n"
     ]
    }
   ],
   "source": [
    "print(type(a))"
   ]
  },
  {
   "cell_type": "code",
   "execution_count": 35,
   "id": "22a234cc",
   "metadata": {},
   "outputs": [],
   "source": [
    "class vehicle:\n",
    "    pass"
   ]
  },
  {
   "cell_type": "code",
   "execution_count": 36,
   "id": "d5fd6f2c",
   "metadata": {},
   "outputs": [],
   "source": [
    "#example:1\n",
    "class bike:\n",
    "    def __init__(self,colour,engine_type,wheels):\n",
    "        self.colour = colour\n",
    "        self.engine_type = engine_type\n",
    "        self.wheels = wheels"
   ]
  },
  {
   "cell_type": "code",
   "execution_count": 38,
   "id": "126a2658",
   "metadata": {},
   "outputs": [],
   "source": [
    "yamaha = bike(\"green\",\"bs6\",\"alloy\")"
   ]
  },
  {
   "cell_type": "code",
   "execution_count": 40,
   "id": "6622e27f",
   "metadata": {},
   "outputs": [
    {
     "data": {
      "text/plain": [
       "'green'"
      ]
     },
     "execution_count": 40,
     "metadata": {},
     "output_type": "execute_result"
    }
   ],
   "source": [
    "yamaha.colour"
   ]
  },
  {
   "cell_type": "code",
   "execution_count": 41,
   "id": "02b63168",
   "metadata": {},
   "outputs": [
    {
     "data": {
      "text/plain": [
       "'alloy'"
      ]
     },
     "execution_count": 41,
     "metadata": {},
     "output_type": "execute_result"
    }
   ],
   "source": [
    "yamaha.wheels"
   ]
  },
  {
   "cell_type": "code",
   "execution_count": 42,
   "id": "d072df88",
   "metadata": {},
   "outputs": [],
   "source": [
    "RE = bike(\"silver\",\"classic 350\",\"alloy\")"
   ]
  },
  {
   "cell_type": "code",
   "execution_count": 43,
   "id": "bae15f68",
   "metadata": {},
   "outputs": [
    {
     "data": {
      "text/plain": [
       "'classic 350'"
      ]
     },
     "execution_count": 43,
     "metadata": {},
     "output_type": "execute_result"
    }
   ],
   "source": [
    "RE.engine_type"
   ]
  },
  {
   "cell_type": "code",
   "execution_count": 44,
   "id": "971153b8",
   "metadata": {},
   "outputs": [],
   "source": [
    "#example-2\n",
    "l = [1,2,3,4,5,6,7,8]"
   ]
  },
  {
   "cell_type": "code",
   "execution_count": 45,
   "id": "8643642a",
   "metadata": {},
   "outputs": [
    {
     "data": {
      "text/plain": [
       "8"
      ]
     },
     "execution_count": 45,
     "metadata": {},
     "output_type": "execute_result"
    }
   ],
   "source": [
    "len(l)"
   ]
  },
  {
   "cell_type": "code",
   "execution_count": 51,
   "id": "491a4478",
   "metadata": {},
   "outputs": [],
   "source": [
    "class list_parser:\n",
    "    def parser(self,a):\n",
    "        if type(a) == list:\n",
    "            return len(a)\n",
    "        else:\n",
    "            print(\"not list\")"
   ]
  },
  {
   "cell_type": "code",
   "execution_count": 52,
   "id": "5e7b3cef",
   "metadata": {},
   "outputs": [],
   "source": [
    "s = list_parser()"
   ]
  },
  {
   "cell_type": "code",
   "execution_count": 53,
   "id": "37a6f5ed",
   "metadata": {},
   "outputs": [
    {
     "name": "stdout",
     "output_type": "stream",
     "text": [
      "not list\n"
     ]
    }
   ],
   "source": [
    "s.parser({1,2,3,4,5,6,7,8,9})"
   ]
  },
  {
   "cell_type": "markdown",
   "id": "60af29f6",
   "metadata": {},
   "source": [
    "# Inheritance"
   ]
  },
  {
   "cell_type": "markdown",
   "id": "204a3ba6",
   "metadata": {},
   "source": [
    "3 types of inheritance:\n",
    "    1. single level inheritance.\n",
    "    2. multiple inheritance.\n",
    "    3.multilevel inheriytance."
   ]
  },
  {
   "cell_type": "code",
   "execution_count": 63,
   "id": "273ccf61",
   "metadata": {},
   "outputs": [],
   "source": [
    "#single level inheritance.\n",
    "class parent:\n",
    "    def __init__(self,a,b,c):\n",
    "        self.a = a\n",
    "        self.b = b\n",
    "        self.c = c\n",
    "    def test(self):\n",
    "        print(\"this is test parent class\")\n",
    "\n",
    "class child(parent):\n",
    "    def test(self):\n",
    "        print(\"first child class\")"
   ]
  },
  {
   "cell_type": "code",
   "execution_count": 65,
   "id": "99d81663",
   "metadata": {},
   "outputs": [],
   "source": [
    "par = parent(1,2,3)"
   ]
  },
  {
   "cell_type": "code",
   "execution_count": 67,
   "id": "0949f730",
   "metadata": {},
   "outputs": [],
   "source": [
    "ch = child(4,5,6)"
   ]
  },
  {
   "cell_type": "code",
   "execution_count": 68,
   "id": "cf8ddbc5",
   "metadata": {},
   "outputs": [
    {
     "data": {
      "text/plain": [
       "4"
      ]
     },
     "execution_count": 68,
     "metadata": {},
     "output_type": "execute_result"
    }
   ],
   "source": [
    "ch.a"
   ]
  },
  {
   "cell_type": "code",
   "execution_count": 70,
   "id": "743397e3",
   "metadata": {},
   "outputs": [
    {
     "name": "stdout",
     "output_type": "stream",
     "text": [
      "first child class\n"
     ]
    }
   ],
   "source": [
    "ch.test()"
   ]
  },
  {
   "cell_type": "code",
   "execution_count": 71,
   "id": "4b657253",
   "metadata": {},
   "outputs": [
    {
     "name": "stdout",
     "output_type": "stream",
     "text": [
      "this is test parent class\n"
     ]
    }
   ],
   "source": [
    "par.test()"
   ]
  },
  {
   "cell_type": "code",
   "execution_count": 76,
   "id": "71ee53bc",
   "metadata": {},
   "outputs": [],
   "source": [
    "#multiple inheritance.\n",
    "#example\n",
    "class c1(object):\n",
    "    def __init__(self):\n",
    "        self.str1 = \"saikumar\"\n",
    "        print(\"class 1\")\n",
    "        \n",
    "class c2(object):\n",
    "    def __init__(self):\n",
    "        self.str2 = \"subscribe the channel\"\n",
    "        print('class 2')\n",
    "        \n",
    "class derived(c1,c2):\n",
    "    def __init__(self):\n",
    "        \n",
    "        c1.__init__(self)\n",
    "        c2.__init__(self)\n",
    "        print(\"derived\")\n",
    "        \n",
    "    def all(self):\n",
    "        print(self.str1,self.str2)"
   ]
  },
  {
   "cell_type": "code",
   "execution_count": 77,
   "id": "7a346734",
   "metadata": {},
   "outputs": [
    {
     "name": "stdout",
     "output_type": "stream",
     "text": [
      "class 1\n",
      "class 2\n",
      "derived\n"
     ]
    }
   ],
   "source": [
    "output = derived()"
   ]
  },
  {
   "cell_type": "code",
   "execution_count": 78,
   "id": "aa180c2f",
   "metadata": {},
   "outputs": [
    {
     "name": "stdout",
     "output_type": "stream",
     "text": [
      "saikumar subscribe the channel\n"
     ]
    }
   ],
   "source": [
    "output.all()"
   ]
  },
  {
   "cell_type": "code",
   "execution_count": 79,
   "id": "cedde2f6",
   "metadata": {},
   "outputs": [],
   "source": [
    "#multilevel inheritance...\n",
    "\n",
    "class parent(object):\n",
    "    def __init__(self, name):\n",
    "        self.name = name\n",
    "        \n",
    "    def getname(self):\n",
    "        return self.name\n",
    "    \n",
    "class child(parent):\n",
    "    def __init__(self,name,age):\n",
    "        parent.__init__(self,name)\n",
    "        self.age = age\n",
    "        \n",
    "    def getage(self):\n",
    "        return self.age\n",
    "    \n",
    "class grandchild(child):\n",
    "    \n",
    "    def __init__(self,name,age,address):\n",
    "        child.__init__(self, name, age)\n",
    "        self.address = address\n",
    "        \n",
    "    def getaddress(self):\n",
    "        return self.address"
   ]
  },
  {
   "cell_type": "code",
   "execution_count": 85,
   "id": "5d3ee084",
   "metadata": {},
   "outputs": [],
   "source": [
    "output = child(\"ram\",21)"
   ]
  },
  {
   "cell_type": "code",
   "execution_count": 82,
   "id": "939bda6c",
   "metadata": {},
   "outputs": [],
   "source": [
    "output = parent(\"ram\")"
   ]
  },
  {
   "cell_type": "code",
   "execution_count": 87,
   "id": "c2f64e32",
   "metadata": {},
   "outputs": [],
   "source": [
    "output = grandchild(\"ram\", 21, \"banglore\")"
   ]
  },
  {
   "cell_type": "code",
   "execution_count": 89,
   "id": "d9ed1f97",
   "metadata": {},
   "outputs": [
    {
     "name": "stdout",
     "output_type": "stream",
     "text": [
      "ram 21 banglore\n"
     ]
    }
   ],
   "source": [
    "print(output.getname(), output.getage(), output.getaddress())"
   ]
  },
  {
   "cell_type": "markdown",
   "id": "a562a1f9",
   "metadata": {},
   "source": [
    "# Polymorphism"
   ]
  },
  {
   "cell_type": "code",
   "execution_count": null,
   "id": "2aa3cb5e",
   "metadata": {},
   "outputs": [],
   "source": [
    "#there are 2 types of polymorpism.\n",
    "1. built in \n",
    "2. user defined "
   ]
  },
  {
   "cell_type": "code",
   "execution_count": 3,
   "id": "322b2db9",
   "metadata": {},
   "outputs": [
    {
     "name": "stdout",
     "output_type": "stream",
     "text": [
      "len of string 7\n",
      "len of list 3\n"
     ]
    }
   ],
   "source": [
    "#build in fun\n",
    "print(\"len of string\", len(\"youtube\"))\n",
    "print(\"len of list\", len([1,23,4]))"
   ]
  },
  {
   "cell_type": "code",
   "execution_count": 4,
   "id": "107cdb3d",
   "metadata": {},
   "outputs": [
    {
     "name": "stdout",
     "output_type": "stream",
     "text": [
      "sum of 2 num 5\n",
      "sum of 3 num 10\n"
     ]
    }
   ],
   "source": [
    "#user defined \n",
    "def add(x, y, z = 0):\n",
    "    return x + y + z\n",
    "\n",
    "#derive code\n",
    "print(\"sum of 2 num\", add(2,3))\n",
    "print(\"sum of 3 num\", add(2,3,5))"
   ]
  },
  {
   "cell_type": "code",
   "execution_count": 5,
   "id": "0c5b6afd",
   "metadata": {},
   "outputs": [],
   "source": [
    "#example-1\n",
    "class man1():\n",
    "    def name(self):\n",
    "        print(\"ram\")\n",
    "    def height(self):\n",
    "        print(\"5.9\")\n",
    "    def language(self):\n",
    "        print(\"english\")\n",
    "        \n",
    "class man2():\n",
    "    def name(self):\n",
    "        print(\"vinod\")\n",
    "    def height(self):\n",
    "        print(\"5.5\")\n",
    "    def language(self):\n",
    "        print(\"spanish\")\n",
    "    "
   ]
  },
  {
   "cell_type": "code",
   "execution_count": 6,
   "id": "0f799179",
   "metadata": {},
   "outputs": [],
   "source": [
    "m1 = man1()\n",
    "m2 = man2()\n"
   ]
  },
  {
   "cell_type": "code",
   "execution_count": 7,
   "id": "323a63e2",
   "metadata": {},
   "outputs": [
    {
     "name": "stdout",
     "output_type": "stream",
     "text": [
      "ram\n",
      "5.9\n",
      "english\n",
      "vinod\n",
      "5.5\n",
      "spanish\n"
     ]
    }
   ],
   "source": [
    "for details in (m1,m2):\n",
    "    details.name()\n",
    "    details.height()\n",
    "    details.language()"
   ]
  },
  {
   "cell_type": "code",
   "execution_count": 8,
   "id": "3565aaba",
   "metadata": {},
   "outputs": [],
   "source": [
    "#polymorpism using inheritance..\n",
    "class animal:\n",
    "    def intro(self):\n",
    "        print(\"there are many types of animals in the world\")\n",
    "    def types(self):\n",
    "        print(\"wild animals & Domestic animals\")\n",
    "        \n",
    "class wild(animal):\n",
    "    def anim1(self):\n",
    "        print(\"lion, tiger, cheeta\")\n",
    "class domestic(animal):\n",
    "    def anim1(self):\n",
    "        print(\"dog\",\"cat\",\"cow\")"
   ]
  },
  {
   "cell_type": "code",
   "execution_count": 9,
   "id": "c4ca67b3",
   "metadata": {},
   "outputs": [],
   "source": [
    "ani = animal()\n",
    "ani_wild = wild()\n",
    "ani_domestic = domestic()"
   ]
  },
  {
   "cell_type": "code",
   "execution_count": 10,
   "id": "56a94767",
   "metadata": {},
   "outputs": [
    {
     "name": "stdout",
     "output_type": "stream",
     "text": [
      "there are many types of animals in the world\n"
     ]
    }
   ],
   "source": [
    "ani.intro()"
   ]
  },
  {
   "cell_type": "code",
   "execution_count": 11,
   "id": "337f3c42",
   "metadata": {},
   "outputs": [
    {
     "name": "stdout",
     "output_type": "stream",
     "text": [
      "wild animals & Domestic animals\n"
     ]
    }
   ],
   "source": [
    "ani.types()"
   ]
  },
  {
   "cell_type": "code",
   "execution_count": 12,
   "id": "fd664c46",
   "metadata": {},
   "outputs": [
    {
     "name": "stdout",
     "output_type": "stream",
     "text": [
      "there are many types of animals in the world\n",
      "wild animals & Domestic animals\n",
      "lion, tiger, cheeta\n",
      "there are many types of animals in the world\n",
      "wild animals & Domestic animals\n",
      "dog cat cow\n"
     ]
    }
   ],
   "source": [
    "ani_wild.intro()\n",
    "ani_wild.types()\n",
    "ani_wild.anim1()\n",
    "ani_domestic.intro()\n",
    "ani_domestic.types()\n",
    "ani_domestic.anim1()"
   ]
  },
  {
   "cell_type": "markdown",
   "id": "71a68663",
   "metadata": {},
   "source": [
    "# Encapsulation"
   ]
  },
  {
   "cell_type": "code",
   "execution_count": 13,
   "id": "dd72f64c",
   "metadata": {},
   "outputs": [],
   "source": [
    "#2 method \n",
    "#1. protected and private\n"
   ]
  },
  {
   "cell_type": "code",
   "execution_count": 15,
   "id": "eca4b589",
   "metadata": {},
   "outputs": [
    {
     "name": "stdout",
     "output_type": "stream",
     "text": [
      "name is :  vinod\n",
      "age is :  22\n",
      "gende is :  male\n"
     ]
    }
   ],
   "source": [
    "#protected.\n",
    "class student:\n",
    "    def __init__(self, name, age, gender):\n",
    "        self.name = name\n",
    "        self._age = age  #protected method\n",
    "        self._gender = gender\n",
    "    def det(self):\n",
    "        print(\"age is : \", self._age)\n",
    "        print(\"gende is : \", self._gender)\n",
    "        \n",
    "class out(student):\n",
    "    def __init__(self, name, age, gender):\n",
    "        student.__init__(self, name, age, gender) #calling details\n",
    "        \n",
    "    def details(self):\n",
    "        print('name is : ', self.name)\n",
    "        self.det()\n",
    "        \n",
    "x = out(\"vinod\", 22, 'male')\n",
    "x.details()"
   ]
  },
  {
   "cell_type": "code",
   "execution_count": 18,
   "id": "a0975a78",
   "metadata": {},
   "outputs": [
    {
     "name": "stdout",
     "output_type": "stream",
     "text": [
      "name is :  vinod\n"
     ]
    },
    {
     "ename": "AttributeError",
     "evalue": "'out' object has no attribute '_out__age'",
     "output_type": "error",
     "traceback": [
      "\u001b[1;31m---------------------------------------------------------------------------\u001b[0m",
      "\u001b[1;31mAttributeError\u001b[0m                            Traceback (most recent call last)",
      "Input \u001b[1;32mIn [18]\u001b[0m, in \u001b[0;36m<cell line: 19>\u001b[1;34m()\u001b[0m\n\u001b[0;32m     16\u001b[0m         \u001b[38;5;28mprint\u001b[39m(\u001b[38;5;124m'\u001b[39m\u001b[38;5;124mgender is :\u001b[39m\u001b[38;5;124m'\u001b[39m, \u001b[38;5;28mself\u001b[39m\u001b[38;5;241m.\u001b[39m__gender)\n\u001b[0;32m     18\u001b[0m x \u001b[38;5;241m=\u001b[39m out(\u001b[38;5;124m\"\u001b[39m\u001b[38;5;124mvinod\u001b[39m\u001b[38;5;124m\"\u001b[39m, \u001b[38;5;241m22\u001b[39m, \u001b[38;5;124m'\u001b[39m\u001b[38;5;124mmale\u001b[39m\u001b[38;5;124m'\u001b[39m)\n\u001b[1;32m---> 19\u001b[0m \u001b[43mx\u001b[49m\u001b[38;5;241;43m.\u001b[39;49m\u001b[43mdetails\u001b[49m\u001b[43m(\u001b[49m\u001b[43m)\u001b[49m\n",
      "Input \u001b[1;32mIn [18]\u001b[0m, in \u001b[0;36mout.details\u001b[1;34m(self)\u001b[0m\n\u001b[0;32m     13\u001b[0m \u001b[38;5;28;01mdef\u001b[39;00m \u001b[38;5;21mdetails\u001b[39m(\u001b[38;5;28mself\u001b[39m):\n\u001b[0;32m     14\u001b[0m     \u001b[38;5;28mprint\u001b[39m(\u001b[38;5;124m'\u001b[39m\u001b[38;5;124mname is : \u001b[39m\u001b[38;5;124m'\u001b[39m, \u001b[38;5;28mself\u001b[39m\u001b[38;5;241m.\u001b[39mname)\n\u001b[1;32m---> 15\u001b[0m     \u001b[38;5;28mprint\u001b[39m(\u001b[38;5;124m'\u001b[39m\u001b[38;5;124mage is :\u001b[39m\u001b[38;5;124m'\u001b[39m, \u001b[38;5;28;43mself\u001b[39;49m\u001b[38;5;241;43m.\u001b[39;49m\u001b[43m__age\u001b[49m)\n\u001b[0;32m     16\u001b[0m     \u001b[38;5;28mprint\u001b[39m(\u001b[38;5;124m'\u001b[39m\u001b[38;5;124mgender is :\u001b[39m\u001b[38;5;124m'\u001b[39m, \u001b[38;5;28mself\u001b[39m\u001b[38;5;241m.\u001b[39m__gender)\n",
      "\u001b[1;31mAttributeError\u001b[0m: 'out' object has no attribute '_out__age'"
     ]
    }
   ],
   "source": [
    "#private\n",
    "class student:\n",
    "    def __init__(self, name, age, gender):\n",
    "        self.name = name\n",
    "        self.__age = age  #private method\n",
    "        self.__gender = gender\n",
    "   \n",
    "        \n",
    "class out(student):\n",
    "    def __init__(self, name, age, gender):\n",
    "        student.__init__(self, name, age, gender) #calling details\n",
    "        \n",
    "    def details(self):\n",
    "        print('name is : ', self.name)\n",
    "        print('age is :', self.__age)\n",
    "        print('gender is :', self.__gender)\n",
    "        \n",
    "x = out(\"vinod\", 22, 'male')\n",
    "x.details()"
   ]
  },
  {
   "cell_type": "code",
   "execution_count": 20,
   "id": "41c58baa",
   "metadata": {},
   "outputs": [
    {
     "name": "stdout",
     "output_type": "stream",
     "text": [
      "name is : sai\n",
      "age is : 21\n",
      "gender is : male\n"
     ]
    }
   ],
   "source": [
    "#example 2\n",
    "class student:\n",
    "    def __init__(self, name, age, gender):\n",
    "        self.name = name\n",
    "        self.__age = age  #private method\n",
    "        self.__gender = gender\n",
    "        \n",
    "    def det(self):\n",
    "        print('age is :', self.__age)\n",
    "        print('gender is :', self.__gender)\n",
    "\n",
    "class out(student):\n",
    "    def __init__(self, name, age, gender):\n",
    "        student.__init__(self, name, age, gender)\n",
    "    def details(self):\n",
    "        print('name is :', self.name)\n",
    "        self.det()\n",
    "        \n",
    "x = out(\"sai\",21,\"male\")\n",
    "x.details()"
   ]
  },
  {
   "cell_type": "markdown",
   "id": "161b31a0",
   "metadata": {},
   "source": [
    "# Data Abstraction"
   ]
  },
  {
   "cell_type": "code",
   "execution_count": 2,
   "id": "f411eb23",
   "metadata": {},
   "outputs": [],
   "source": [
    "class bike():\n",
    "    def process(self):\n",
    "        print(\"hello\")"
   ]
  },
  {
   "cell_type": "code",
   "execution_count": 3,
   "id": "9f786901",
   "metadata": {},
   "outputs": [
    {
     "name": "stdout",
     "output_type": "stream",
     "text": [
      "hello\n"
     ]
    }
   ],
   "source": [
    "ym = bike()\n",
    "ym.process()"
   ]
  },
  {
   "cell_type": "code",
   "execution_count": 4,
   "id": "ded71120",
   "metadata": {},
   "outputs": [
    {
     "ename": "TypeError",
     "evalue": "Can't instantiate abstract class bike with abstract method process",
     "output_type": "error",
     "traceback": [
      "\u001b[1;31m---------------------------------------------------------------------------\u001b[0m",
      "\u001b[1;31mTypeError\u001b[0m                                 Traceback (most recent call last)",
      "Input \u001b[1;32mIn [4]\u001b[0m, in \u001b[0;36m<cell line: 6>\u001b[1;34m()\u001b[0m\n\u001b[0;32m      3\u001b[0m     \u001b[38;5;129m@abstractmethod\u001b[39m\n\u001b[0;32m      4\u001b[0m     \u001b[38;5;28;01mdef\u001b[39;00m \u001b[38;5;21mprocess\u001b[39m(\u001b[38;5;28mself\u001b[39m):\n\u001b[0;32m      5\u001b[0m         \u001b[38;5;28mprint\u001b[39m(\u001b[38;5;124m\"\u001b[39m\u001b[38;5;124mhello\u001b[39m\u001b[38;5;124m\"\u001b[39m)\n\u001b[1;32m----> 6\u001b[0m ym \u001b[38;5;241m=\u001b[39m \u001b[43mbike\u001b[49m\u001b[43m(\u001b[49m\u001b[43m)\u001b[49m\n\u001b[0;32m      7\u001b[0m ym\u001b[38;5;241m.\u001b[39mprocess()\n",
      "\u001b[1;31mTypeError\u001b[0m: Can't instantiate abstract class bike with abstract method process"
     ]
    }
   ],
   "source": [
    "from abc import ABC, abstractmethod\n",
    "class bike(ABC):\n",
    "    @abstractmethod\n",
    "    def process(self):\n",
    "        print(\"hello\")\n",
    "ym = bike()\n",
    "ym.process()"
   ]
  },
  {
   "cell_type": "code",
   "execution_count": 5,
   "id": "114ed631",
   "metadata": {},
   "outputs": [],
   "source": [
    "class yamaha(bike):\n",
    "    def process(self):\n",
    "        print(\"it's working\")"
   ]
  },
  {
   "cell_type": "code",
   "execution_count": 6,
   "id": "2c2267a7",
   "metadata": {},
   "outputs": [
    {
     "name": "stdout",
     "output_type": "stream",
     "text": [
      "it's working\n"
     ]
    }
   ],
   "source": [
    "ym1 = yamaha()\n",
    "ym1.process()"
   ]
  },
  {
   "cell_type": "code",
   "execution_count": 9,
   "id": "286b0ed4",
   "metadata": {},
   "outputs": [],
   "source": [
    "from abc import ABC, abstractmethod\n",
    "\n",
    "class Polygon():\n",
    "    @abstractmethod\n",
    "    def noofsides(self):\n",
    "        pass\n",
    "    \n",
    "class Triangle(Polygon):\n",
    "    #overriding abstract method.\n",
    "    def noofsides(self):\n",
    "        print(\"i have 3 sides\")\n",
    "class Pentagon(Polygon):\n",
    "    #overriding abstract method.\n",
    "    def noofsides(self):\n",
    "        print(\"i have 5 sides\")\n",
    "        \n",
    "class Hexagon(Polygon):\n",
    "    #overriding abstract method.\n",
    "    def noofsides(self):\n",
    "        print(\"i have 6 sides\")\n",
    "class Quadrilateral(Polygon):\n",
    "    #overriding abstract method.\n",
    "    def noofsides(self):\n",
    "        print(\"i have 4 sides\")"
   ]
  },
  {
   "cell_type": "code",
   "execution_count": 14,
   "id": "f090ff2b",
   "metadata": {},
   "outputs": [
    {
     "name": "stdout",
     "output_type": "stream",
     "text": [
      "i have 3 sides\n",
      "i have 5 sides\n",
      "i have 6 sides\n",
      "i have 4 sides\n"
     ]
    }
   ],
   "source": [
    "R = Triangle()\n",
    "R.noofsides()\n",
    "\n",
    "K = Pentagon()\n",
    "K.noofsides()\n",
    "\n",
    "H = Hexagon()\n",
    "H.noofsides()\n",
    "\n",
    "Q = Quadrilateral()\n",
    "Q.noofsides()"
   ]
  },
  {
   "cell_type": "code",
   "execution_count": null,
   "id": "13c80e6a",
   "metadata": {},
   "outputs": [],
   "source": []
  }
 ],
 "metadata": {
  "kernelspec": {
   "display_name": "Python 3 (ipykernel)",
   "language": "python",
   "name": "python3"
  },
  "language_info": {
   "codemirror_mode": {
    "name": "ipython",
    "version": 3
   },
   "file_extension": ".py",
   "mimetype": "text/x-python",
   "name": "python",
   "nbconvert_exporter": "python",
   "pygments_lexer": "ipython3",
   "version": "3.9.12"
  }
 },
 "nbformat": 4,
 "nbformat_minor": 5
}
