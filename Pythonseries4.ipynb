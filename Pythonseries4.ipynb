{
 "cells": [
  {
   "cell_type": "markdown",
   "id": "846b4a40",
   "metadata": {},
   "source": [
    "# Video-17"
   ]
  },
  {
   "cell_type": "code",
   "execution_count": 1,
   "id": "e96a843c",
   "metadata": {},
   "outputs": [
    {
     "name": "stdout",
     "output_type": "stream",
     "text": [
      " Volume in drive C is OS\n",
      " Volume Serial Number is 06D3-E942\n",
      "\n",
      " Directory of C:\\Users\\123sa\\OneDrive\\Desktop\\python yt\n",
      "\n",
      "13-08-2022  18:24    <DIR>          .\n",
      "13-08-2022  13:35    <DIR>          ..\n",
      "13-08-2022  17:45    <DIR>          .ipynb_checkpoints\n",
      "13-06-2022  20:56    <DIR>          .venv\n",
      "03-07-2022  16:06            22,626 python yt1.ipynb\n",
      "25-07-2022  21:04            14,287 python3file.ipynb\n",
      "13-08-2022  18:23             2,400 Pythonseries4.ipynb\n",
      "15-06-2022  18:41                68 pythonthref1.txt\n",
      "11-07-2022  21:10            36,176 pyyt2.ipynb\n",
      "12-06-2022  05:59                 0 table1.py\n",
      "13-08-2022  18:24            10,992 Untitled.ipynb\n",
      "               7 File(s)         86,549 bytes\n",
      "               4 Dir(s)  319,186,386,944 bytes free\n"
     ]
    }
   ],
   "source": [
    "#ls is used to see all the list of files avaliable in directory.\n",
    "%ls"
   ]
  },
  {
   "cell_type": "code",
   "execution_count": 3,
   "id": "29d3f61f",
   "metadata": {},
   "outputs": [
    {
     "data": {
      "text/plain": [
       "'C:\\\\Users\\\\123sa\\\\OneDrive\\\\Desktop\\\\python yt'"
      ]
     },
     "execution_count": 3,
     "metadata": {},
     "output_type": "execute_result"
    }
   ],
   "source": [
    "#present working directory..\n",
    "pwd()"
   ]
  },
  {
   "cell_type": "code",
   "execution_count": 35,
   "id": "2c934d3d",
   "metadata": {},
   "outputs": [
    {
     "name": "stdout",
     "output_type": "stream",
     "text": [
      "C:\\Users\\123sa\n"
     ]
    }
   ],
   "source": [
    "cd "
   ]
  },
  {
   "cell_type": "code",
   "execution_count": 44,
   "id": "9cf968a6",
   "metadata": {},
   "outputs": [],
   "source": [
    "#it creates file and writes text in write mode.\n",
    "f = open('yt123.txt','r+')"
   ]
  },
  {
   "cell_type": "code",
   "execution_count": 45,
   "id": "cc476a88",
   "metadata": {},
   "outputs": [
    {
     "data": {
      "text/plain": [
       "46"
      ]
     },
     "execution_count": 45,
     "metadata": {},
     "output_type": "execute_result"
    }
   ],
   "source": [
    "f.write(\"Hey all subscribe my channel for more videos..\")"
   ]
  },
  {
   "cell_type": "code",
   "execution_count": 46,
   "id": "3aedeeeb",
   "metadata": {},
   "outputs": [],
   "source": [
    "f.close()"
   ]
  },
  {
   "cell_type": "code",
   "execution_count": 14,
   "id": "a407c120",
   "metadata": {},
   "outputs": [
    {
     "name": "stdout",
     "output_type": "stream",
     "text": [
      "Writing yt1.txt\n"
     ]
    }
   ],
   "source": [
    "%%writefile yt1.txt\n",
    "write all data here comment below if you like my videos"
   ]
  },
  {
   "cell_type": "code",
   "execution_count": 20,
   "id": "2d62c844",
   "metadata": {},
   "outputs": [
    {
     "data": {
      "text/plain": [
       "46"
      ]
     },
     "execution_count": 20,
     "metadata": {},
     "output_type": "execute_result"
    }
   ],
   "source": [
    "f.tell()"
   ]
  },
  {
   "cell_type": "code",
   "execution_count": 26,
   "id": "691bd54a",
   "metadata": {},
   "outputs": [
    {
     "data": {
      "text/plain": [
       "6"
      ]
     },
     "execution_count": 26,
     "metadata": {},
     "output_type": "execute_result"
    }
   ],
   "source": [
    "f.seek(6)"
   ]
  },
  {
   "cell_type": "code",
   "execution_count": 27,
   "id": "4c28a82c",
   "metadata": {},
   "outputs": [],
   "source": [
    "import os"
   ]
  },
  {
   "cell_type": "code",
   "execution_count": 31,
   "id": "d835056a",
   "metadata": {},
   "outputs": [],
   "source": [
    "os.remove(\"yt.txt\")"
   ]
  },
  {
   "cell_type": "code",
   "execution_count": 33,
   "id": "89b17a9d",
   "metadata": {},
   "outputs": [
    {
     "data": {
      "text/plain": [
       "'C:\\\\Users\\\\123sa\\\\OneDrive\\\\Desktop\\\\python yt'"
      ]
     },
     "execution_count": 33,
     "metadata": {},
     "output_type": "execute_result"
    }
   ],
   "source": [
    "os.getcwd()"
   ]
  },
  {
   "cell_type": "code",
   "execution_count": 43,
   "id": "03fe12a8",
   "metadata": {},
   "outputs": [
    {
     "data": {
      "text/plain": [
       "['.atom',\n",
       " '.aws',\n",
       " '.azure',\n",
       " '.azuredatastudio',\n",
       " '.bash_history',\n",
       " '.conda',\n",
       " '.condarc',\n",
       " '.continuum',\n",
       " '.dbshell',\n",
       " '.docker',\n",
       " '.git',\n",
       " '.gitconfig',\n",
       " '.ipynb_checkpoints',\n",
       " '.ipython',\n",
       " '.jupyter',\n",
       " '.lesshst',\n",
       " '.matplotlib',\n",
       " '.minikube',\n",
       " '.mito',\n",
       " '.mongorc.js',\n",
       " '.viminfo',\n",
       " '.vscode',\n",
       " 'anaconda3',\n",
       " 'AppData',\n",
       " 'Application Data',\n",
       " 'Contacts',\n",
       " 'Cookies',\n",
       " 'Documents',\n",
       " 'Downloads',\n",
       " 'Favorites',\n",
       " 'gitex',\n",
       " 'hacakatonproj',\n",
       " 'IntelGraphicsProfiles',\n",
       " 'Links',\n",
       " 'Local Settings',\n",
       " 'Microsoft',\n",
       " 'mintty.2022-05-31_17-38-12.png',\n",
       " 'mito-starter-notebook.ipynb',\n",
       " 'Music',\n",
       " 'My Documents',\n",
       " 'NetHood',\n",
       " 'NTUSER.DAT',\n",
       " 'ntuser.dat.LOG1',\n",
       " 'ntuser.dat.LOG2',\n",
       " 'NTUSER.DAT{af2eebbf-19f5-11ed-92ad-005056c00008}.TM.blf',\n",
       " 'NTUSER.DAT{af2eebbf-19f5-11ed-92ad-005056c00008}.TMContainer00000000000000000001.regtrans-ms',\n",
       " 'NTUSER.DAT{af2eebbf-19f5-11ed-92ad-005056c00008}.TMContainer00000000000000000002.regtrans-ms',\n",
       " 'ntuser.ini',\n",
       " 'OneDrive',\n",
       " 'Oracle',\n",
       " 'Pictures',\n",
       " 'Postman',\n",
       " 'PrintHood',\n",
       " 'Recent',\n",
       " 'Saved Games',\n",
       " 'seaborn-data',\n",
       " 'Searches',\n",
       " 'SendTo',\n",
       " 'source',\n",
       " 'Start Menu',\n",
       " 'Templates',\n",
       " 'Untitled.ipynb',\n",
       " 'Untitled1.ipynb',\n",
       " 'Untitled2.ipynb',\n",
       " 'Videos',\n",
       " 'webproj1',\n",
       " 'yt.txt',\n",
       " 'yt123.txt']"
      ]
     },
     "execution_count": 43,
     "metadata": {},
     "output_type": "execute_result"
    }
   ],
   "source": [
    "os.listdir()"
   ]
  },
  {
   "cell_type": "markdown",
   "id": "392710f1",
   "metadata": {},
   "source": [
    "# Video-18"
   ]
  },
  {
   "cell_type": "markdown",
   "id": "5c52710e",
   "metadata": {},
   "source": [
    "# Logging and Debugging"
   ]
  },
  {
   "cell_type": "code",
   "execution_count": 1,
   "id": "c805b0d8",
   "metadata": {},
   "outputs": [],
   "source": [
    "import logging as lg"
   ]
  },
  {
   "cell_type": "code",
   "execution_count": 2,
   "id": "a047f058",
   "metadata": {},
   "outputs": [],
   "source": [
    "import os"
   ]
  },
  {
   "cell_type": "code",
   "execution_count": 3,
   "id": "712bde18",
   "metadata": {},
   "outputs": [
    {
     "name": "stdout",
     "output_type": "stream",
     "text": [
      " Volume in drive C is OS\n",
      " Volume Serial Number is 06D3-E942\n",
      "\n",
      " Directory of C:\\Users\\123sa\\OneDrive\\Desktop\\python yt\n",
      "\n",
      "20-08-2022  11:35    <DIR>          .\n",
      "20-08-2022  10:28    <DIR>          ..\n",
      "13-08-2022  17:45    <DIR>          .ipynb_checkpoints\n",
      "13-06-2022  20:56    <DIR>          .venv\n",
      "24-02-2022  08:41                 9 1pyt.py\n",
      "03-07-2022  16:06            22,626 python yt1.ipynb\n",
      "25-07-2022  21:04            14,287 python3file.ipynb\n",
      "20-08-2022  11:34             7,654 Pythonseries4.ipynb\n",
      "15-06-2022  18:41                68 pythonthref1.txt\n",
      "11-07-2022  21:10            36,176 pyyt2.ipynb\n",
      "12-06-2022  05:59                 0 table1.py\n",
      "13-08-2022  18:24            10,992 Untitled.ipynb\n",
      "               8 File(s)         91,812 bytes\n",
      "               4 Dir(s)  319,626,432,512 bytes free\n"
     ]
    }
   ],
   "source": [
    "ls"
   ]
  },
  {
   "cell_type": "code",
   "execution_count": 4,
   "id": "6d397f0f",
   "metadata": {},
   "outputs": [],
   "source": [
    "os.mkdir(\"log\")"
   ]
  },
  {
   "cell_type": "code",
   "execution_count": 5,
   "id": "982a3a10",
   "metadata": {},
   "outputs": [
    {
     "data": {
      "text/plain": [
       "'C:\\\\Users\\\\123sa\\\\OneDrive\\\\Desktop\\\\python yt'"
      ]
     },
     "execution_count": 5,
     "metadata": {},
     "output_type": "execute_result"
    }
   ],
   "source": [
    "pwd()"
   ]
  },
  {
   "cell_type": "code",
   "execution_count": 6,
   "id": "569d5f3f",
   "metadata": {},
   "outputs": [],
   "source": [
    "os.chdir(os.getcwd() + \"/\" + \"log\")"
   ]
  },
  {
   "cell_type": "code",
   "execution_count": 7,
   "id": "40996e13",
   "metadata": {},
   "outputs": [
    {
     "data": {
      "text/plain": [
       "'C:\\\\Users\\\\123sa\\\\OneDrive\\\\Desktop\\\\python yt\\\\log'"
      ]
     },
     "execution_count": 7,
     "metadata": {},
     "output_type": "execute_result"
    }
   ],
   "source": [
    "pwd()"
   ]
  },
  {
   "cell_type": "code",
   "execution_count": 8,
   "id": "64a6997a",
   "metadata": {},
   "outputs": [],
   "source": [
    "lg.basicConfig(filename = 'yt.log', level = lg.INFO, format = '%(asctime)s %(message)s')"
   ]
  },
  {
   "cell_type": "code",
   "execution_count": 9,
   "id": "4fb427f2",
   "metadata": {},
   "outputs": [],
   "source": [
    "lg.info(\"hey subscribers\")"
   ]
  },
  {
   "cell_type": "code",
   "execution_count": 10,
   "id": "74cfe21f",
   "metadata": {},
   "outputs": [],
   "source": [
    "lg.warning(\"Warning!!!! subscribe my channel\")"
   ]
  },
  {
   "cell_type": "code",
   "execution_count": 11,
   "id": "1e1ec9b8",
   "metadata": {},
   "outputs": [],
   "source": [
    "lg.error(\"this is error message\")"
   ]
  },
  {
   "cell_type": "code",
   "execution_count": 14,
   "id": "2666221e",
   "metadata": {},
   "outputs": [],
   "source": [
    "#exception handling log code..\n",
    "\n",
    "def yt(a,b):\n",
    "    try:\n",
    "        lg.info(str(a)+ str(b))\n",
    "        div = a/b\n",
    "        return div\n",
    "    except Exception as e:\n",
    "        print(\"there is error check the log file\")\n",
    "        lg.error(\"error occured\")\n",
    "        lg.exception(str(e))\n",
    "    "
   ]
  },
  {
   "cell_type": "code",
   "execution_count": 12,
   "id": "dd59ea5d",
   "metadata": {},
   "outputs": [],
   "source": [
    "def yt(a,b):\n",
    "    div = a/b\n",
    "    return div"
   ]
  },
  {
   "cell_type": "code",
   "execution_count": 15,
   "id": "2fcf724b",
   "metadata": {},
   "outputs": [
    {
     "name": "stdout",
     "output_type": "stream",
     "text": [
      "there is error check the log file\n"
     ]
    }
   ],
   "source": [
    "yt(1,0)"
   ]
  },
  {
   "cell_type": "code",
   "execution_count": null,
   "id": "128d032b",
   "metadata": {},
   "outputs": [],
   "source": []
  }
 ],
 "metadata": {
  "kernelspec": {
   "display_name": "Python 3 (ipykernel)",
   "language": "python",
   "name": "python3"
  },
  "language_info": {
   "codemirror_mode": {
    "name": "ipython",
    "version": 3
   },
   "file_extension": ".py",
   "mimetype": "text/x-python",
   "name": "python",
   "nbconvert_exporter": "python",
   "pygments_lexer": "ipython3",
   "version": "3.9.12"
  }
 },
 "nbformat": 4,
 "nbformat_minor": 5
}
