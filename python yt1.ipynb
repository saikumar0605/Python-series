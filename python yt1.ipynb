{
 "cells": [
  {
   "cell_type": "markdown",
   "id": "e81be3c6",
   "metadata": {},
   "source": [
    "# PYTHON DAY #1"
   ]
  },
  {
   "cell_type": "code",
   "execution_count": null,
   "id": "0a89a011",
   "metadata": {},
   "outputs": [],
   "source": [
    "print(\"Hello world!\")"
   ]
  },
  {
   "cell_type": "code",
   "execution_count": null,
   "id": "f6b18a4b",
   "metadata": {},
   "outputs": [],
   "source": [
    "\"\"\"python was invented on 1991\"\"\"\n",
    "\n",
    "if 5>2:\n",
    "    print(\"5 is greater\")\n",
    "\n"
   ]
  },
  {
   "cell_type": "code",
   "execution_count": null,
   "id": "14929317",
   "metadata": {},
   "outputs": [],
   "source": [
    "#variables(data types)\n",
    "a = float(1)\n",
    "print(a)"
   ]
  },
  {
   "cell_type": "code",
   "execution_count": null,
   "id": "c814d07b",
   "metadata": {},
   "outputs": [],
   "source": [
    "x = \"sai\"\n",
    "y = \"kumar\"\n",
    "z = \"2002\""
   ]
  },
  {
   "cell_type": "code",
   "execution_count": null,
   "id": "0b590d2a",
   "metadata": {},
   "outputs": [],
   "source": [
    "print(x+y+z)\n",
    "print(z)"
   ]
  },
  {
   "cell_type": "code",
   "execution_count": null,
   "id": "1d5d03ea",
   "metadata": {},
   "outputs": [],
   "source": [
    "type(z)"
   ]
  },
  {
   "cell_type": "markdown",
   "id": "163c53a8",
   "metadata": {},
   "source": [
    "# day 2"
   ]
  },
  {
   "cell_type": "code",
   "execution_count": null,
   "id": "a631f100",
   "metadata": {},
   "outputs": [],
   "source": [
    "# variables are nothing but a containers / references of data in wich we store localy or globaly."
   ]
  },
  {
   "cell_type": "code",
   "execution_count": null,
   "id": "f624e97d",
   "metadata": {},
   "outputs": [],
   "source": [
    "youtube = 5"
   ]
  },
  {
   "cell_type": "code",
   "execution_count": null,
   "id": "8faa4991",
   "metadata": {},
   "outputs": [],
   "source": [
    "youtube"
   ]
  },
  {
   "cell_type": "code",
   "execution_count": null,
   "id": "0a9583e0",
   "metadata": {},
   "outputs": [],
   "source": [
    "a = \"sk\""
   ]
  },
  {
   "cell_type": "code",
   "execution_count": null,
   "id": "c2ce1572",
   "metadata": {},
   "outputs": [],
   "source": [
    "type(a)"
   ]
  },
  {
   "cell_type": "code",
   "execution_count": null,
   "id": "da4bacc4",
   "metadata": {},
   "outputs": [],
   "source": [
    "a , b , c = 4, 4.1, \"sk\""
   ]
  },
  {
   "cell_type": "code",
   "execution_count": null,
   "id": "91b35bee",
   "metadata": {},
   "outputs": [],
   "source": [
    "a,b,c"
   ]
  },
  {
   "cell_type": "code",
   "execution_count": null,
   "id": "b0fbe1fe",
   "metadata": {},
   "outputs": [],
   "source": [
    "x = 5\n",
    "y = 2\n",
    "\n",
    "if(x<y):\n",
    "    print(\"x is greater\")\n",
    "else:\n",
    "    print(\"x is less\")"
   ]
  },
  {
   "cell_type": "code",
   "execution_count": null,
   "id": "b4f480f9",
   "metadata": {},
   "outputs": [],
   "source": [
    "a = True\n",
    "b = False"
   ]
  },
  {
   "cell_type": "code",
   "execution_count": null,
   "id": "8cf31645",
   "metadata": {},
   "outputs": [],
   "source": [
    "type(a)"
   ]
  },
  {
   "cell_type": "markdown",
   "id": "90c94139",
   "metadata": {},
   "source": [
    "# video 3"
   ]
  },
  {
   "cell_type": "code",
   "execution_count": null,
   "id": "44ebd828",
   "metadata": {},
   "outputs": [],
   "source": [
    "#complex numbers\n",
    "n = 75 + 2j"
   ]
  },
  {
   "cell_type": "code",
   "execution_count": null,
   "id": "92dad735",
   "metadata": {},
   "outputs": [],
   "source": [
    "type(n)"
   ]
  },
  {
   "cell_type": "code",
   "execution_count": null,
   "id": "af790fe9",
   "metadata": {},
   "outputs": [],
   "source": [
    "n.real"
   ]
  },
  {
   "cell_type": "code",
   "execution_count": null,
   "id": "a6cfe919",
   "metadata": {},
   "outputs": [],
   "source": [
    "n.imag"
   ]
  },
  {
   "cell_type": "code",
   "execution_count": null,
   "id": "b1aa0e6c",
   "metadata": {},
   "outputs": [],
   "source": [
    "a = input(\"enter the value of a \")\n",
    "b = input(\" enter the value of b \")"
   ]
  },
  {
   "cell_type": "code",
   "execution_count": null,
   "id": "8ef93356",
   "metadata": {},
   "outputs": [],
   "source": [
    "a"
   ]
  },
  {
   "cell_type": "code",
   "execution_count": null,
   "id": "0f9ae468",
   "metadata": {},
   "outputs": [],
   "source": [
    "c = int(input(\"enter value of a\"))"
   ]
  },
  {
   "cell_type": "code",
   "execution_count": null,
   "id": "ced8ba8b",
   "metadata": {},
   "outputs": [],
   "source": [
    "a"
   ]
  },
  {
   "cell_type": "code",
   "execution_count": null,
   "id": "9dd9f39f",
   "metadata": {},
   "outputs": [],
   "source": [
    "a,b,c"
   ]
  },
  {
   "cell_type": "code",
   "execution_count": null,
   "id": "6a5a21f7",
   "metadata": {},
   "outputs": [],
   "source": [
    "a + c"
   ]
  },
  {
   "cell_type": "code",
   "execution_count": null,
   "id": "4100c5e5",
   "metadata": {},
   "outputs": [],
   "source": [
    "#mathamatical operations\n",
    "\n",
    "a = 50 \n",
    "b = 40"
   ]
  },
  {
   "cell_type": "code",
   "execution_count": null,
   "id": "0541b140",
   "metadata": {},
   "outputs": [],
   "source": [
    "a + b"
   ]
  },
  {
   "cell_type": "code",
   "execution_count": null,
   "id": "d0f84e46",
   "metadata": {},
   "outputs": [],
   "source": [
    "a * b"
   ]
  },
  {
   "cell_type": "code",
   "execution_count": null,
   "id": "49b2b7c7",
   "metadata": {},
   "outputs": [],
   "source": [
    "a - b"
   ]
  },
  {
   "cell_type": "code",
   "execution_count": null,
   "id": "5dee0159",
   "metadata": {},
   "outputs": [],
   "source": [
    "a / b"
   ]
  },
  {
   "cell_type": "code",
   "execution_count": null,
   "id": "8a6dc5d3",
   "metadata": {},
   "outputs": [],
   "source": [
    "a % b"
   ]
  },
  {
   "cell_type": "code",
   "execution_count": null,
   "id": "0b58e6f4",
   "metadata": {},
   "outputs": [],
   "source": [
    "a =  int(input(\"value of a- \"))\n",
    "b =  int(input(\"value of b- \"))\n",
    "c = int(input(\"value of c- \"))\n",
    "print(a + b)\n",
    "print(b / a)\n",
    "\n",
    "              "
   ]
  },
  {
   "cell_type": "code",
   "execution_count": null,
   "id": "8f4bf756",
   "metadata": {},
   "outputs": [],
   "source": [
    "# any integer value and a name.\n",
    "6sai\n",
    "#hint - \" \""
   ]
  },
  {
   "cell_type": "markdown",
   "id": "6197dc06",
   "metadata": {},
   "source": [
    "# DAY4 video"
   ]
  },
  {
   "cell_type": "code",
   "execution_count": null,
   "id": "ef25bd43",
   "metadata": {},
   "outputs": [],
   "source": [
    "a = '6'\n",
    "b = 'sai'"
   ]
  },
  {
   "cell_type": "code",
   "execution_count": null,
   "id": "0d7a89c8",
   "metadata": {},
   "outputs": [],
   "source": [
    "a + b"
   ]
  },
  {
   "cell_type": "code",
   "execution_count": null,
   "id": "c104c780",
   "metadata": {},
   "outputs": [],
   "source": [
    "str_ing = 'saikumar'"
   ]
  },
  {
   "cell_type": "code",
   "execution_count": null,
   "id": "271e3d02",
   "metadata": {},
   "outputs": [],
   "source": [
    "print(str_ing.isalnum()) "
   ]
  },
  {
   "cell_type": "code",
   "execution_count": null,
   "id": "e2b1357d",
   "metadata": {},
   "outputs": [],
   "source": [
    "print(str_ing.isalpha())"
   ]
  },
  {
   "cell_type": "code",
   "execution_count": null,
   "id": "1c9d69a1",
   "metadata": {},
   "outputs": [],
   "source": [
    "print(str_ing.isspace())"
   ]
  },
  {
   "cell_type": "code",
   "execution_count": null,
   "id": "2bc7ef42",
   "metadata": {},
   "outputs": [],
   "source": [
    "str_ing.isalpha()"
   ]
  },
  {
   "cell_type": "code",
   "execution_count": null,
   "id": "53809724",
   "metadata": {},
   "outputs": [],
   "source": [
    "str_ing.istitle()"
   ]
  },
  {
   "cell_type": "code",
   "execution_count": null,
   "id": "7121a3be",
   "metadata": {},
   "outputs": [],
   "source": [
    "str_ing.isupper()"
   ]
  },
  {
   "cell_type": "code",
   "execution_count": null,
   "id": "f047aaf8",
   "metadata": {},
   "outputs": [],
   "source": [
    "str_ing.islower()"
   ]
  },
  {
   "cell_type": "code",
   "execution_count": null,
   "id": "21fee2ea",
   "metadata": {},
   "outputs": [],
   "source": [
    "print(str_ing.endswith('s'))"
   ]
  },
  {
   "cell_type": "code",
   "execution_count": null,
   "id": "e6c2becf",
   "metadata": {},
   "outputs": [],
   "source": [
    "print(str_ing.startswith('s'))"
   ]
  },
  {
   "cell_type": "markdown",
   "id": "ca25c2b9",
   "metadata": {},
   "source": [
    "bolean functions"
   ]
  },
  {
   "cell_type": "code",
   "execution_count": null,
   "id": "ee2fa674",
   "metadata": {},
   "outputs": [],
   "source": [
    "True and True"
   ]
  },
  {
   "cell_type": "code",
   "execution_count": null,
   "id": "be769710",
   "metadata": {},
   "outputs": [],
   "source": [
    "True and False"
   ]
  },
  {
   "cell_type": "code",
   "execution_count": null,
   "id": "3892c349",
   "metadata": {},
   "outputs": [],
   "source": [
    "True or False"
   ]
  },
  {
   "cell_type": "code",
   "execution_count": null,
   "id": "339769be",
   "metadata": {},
   "outputs": [],
   "source": [
    "True or True"
   ]
  },
  {
   "cell_type": "markdown",
   "id": "35cc60e2",
   "metadata": {},
   "source": [
    "# day 5"
   ]
  },
  {
   "cell_type": "markdown",
   "id": "709b5aca",
   "metadata": {},
   "source": [
    "#conditional statments.\n",
    "\n",
    "4 types of conditional statment.\n",
    "1. if\n",
    "2. if-else\n",
    "3. elif\n",
    "4. nested if"
   ]
  },
  {
   "cell_type": "code",
   "execution_count": null,
   "id": "9dec31a5",
   "metadata": {},
   "outputs": [],
   "source": [
    "#if statment\n",
    "a = 74\n",
    "\n",
    "if a < 75:\n",
    "    print(\"its smaller\")"
   ]
  },
  {
   "cell_type": "code",
   "execution_count": null,
   "id": "1c62b818",
   "metadata": {},
   "outputs": [],
   "source": [
    "#if else statment\n",
    "\n",
    "b = int(input(\"enter a number\"))\n",
    "\n",
    "if b < 75:\n",
    "    print(\"b is smaller\") #true condition\n",
    "else:\n",
    "    print(\"b is bigger\")"
   ]
  },
  {
   "cell_type": "code",
   "execution_count": null,
   "id": "02a09c5b",
   "metadata": {},
   "outputs": [],
   "source": [
    "#elif statment...\n",
    "\n",
    "num = 7\n",
    "\n",
    "if (num== 0):\n",
    "    print(\"number is 0\")\n",
    "    \n",
    "elif(num < 5):\n",
    "    print(\"number is <5\")\n",
    "elif(num >= 7):\n",
    "    print(\"larger\")\n",
    "else:\n",
    "    print(\"number is smaller\")"
   ]
  },
  {
   "cell_type": "code",
   "execution_count": null,
   "id": "8f16e1f1",
   "metadata": {},
   "outputs": [],
   "source": [
    "#nested if statment...\n",
    "num = -15\n",
    "\n",
    "if num >=0:\n",
    "    if num == 0:\n",
    "        print(\"zero value\")\n",
    "    else:\n",
    "        print(\"positive value\")\n",
    "else:\n",
    "    print(\"negative value\")\n",
    "    "
   ]
  },
  {
   "cell_type": "code",
   "execution_count": null,
   "id": "af0afc5b",
   "metadata": {},
   "outputs": [],
   "source": [
    "# assignment elif statment...\n",
    "\n",
    " #n = 100"
   ]
  },
  {
   "cell_type": "markdown",
   "id": "65fc0c44",
   "metadata": {},
   "source": [
    "# DAY6"
   ]
  },
  {
   "cell_type": "code",
   "execution_count": null,
   "id": "6b8bb8ea",
   "metadata": {},
   "outputs": [],
   "source": [
    "#loops\n",
    "\n",
    "#for loop \n",
    "#while loop\n",
    "#nested loops\n",
    "\n",
    "for letter in 'saikumar':\n",
    "    print ('current letter:', letter)"
   ]
  },
  {
   "cell_type": "code",
   "execution_count": null,
   "id": "44aabb7b",
   "metadata": {},
   "outputs": [],
   "source": [
    "fruits = ['apple','kiwi', 'dragon fruit']\n",
    "for fruit in fruits:\n",
    "    print('current fruit:', fruit)\n",
    "    \n",
    "print(\"here are fruits\")"
   ]
  },
  {
   "cell_type": "code",
   "execution_count": null,
   "id": "4334fa43",
   "metadata": {},
   "outputs": [],
   "source": [
    "#while loop\n",
    "#example1\n",
    "i = 1\n",
    "j = 5\n",
    "while i <= j:\n",
    "    print(\"5\")\n",
    "    i = i + 1"
   ]
  },
  {
   "cell_type": "code",
   "execution_count": null,
   "id": "f79728ce",
   "metadata": {},
   "outputs": [],
   "source": [
    "#example=2 #nested loop example 1\n",
    "notes = 5\n",
    "i = 1\n",
    "j = 1\n",
    "while i < notes:\n",
    "    print(i)\n",
    "    i += 1\n",
    "else:\n",
    "    while j < 2:\n",
    "        print(\"this is false statment\")\n",
    "        j = j + 1\n",
    "    print(\"no 10rs is avaliable\")"
   ]
  },
  {
   "cell_type": "code",
   "execution_count": 1,
   "id": "f814889c",
   "metadata": {},
   "outputs": [
    {
     "name": "stdout",
     "output_type": "stream",
     "text": [
      "2 is prime\n",
      "3 is prime\n",
      "5 is prime\n",
      "7 is prime\n",
      "11 is prime\n",
      "13 is prime\n",
      "17 is prime\n",
      "19 is prime\n",
      "23 is prime\n",
      "29 is prime\n",
      "31 is prime\n",
      "37 is prime\n",
      "41 is prime\n",
      "43 is prime\n",
      "47 is prime\n",
      "53 is prime\n",
      "59 is prime\n",
      "61 is prime\n",
      "67 is prime\n",
      "71 is prime\n",
      "73 is prime\n",
      "79 is prime\n",
      "83 is prime\n",
      "89 is prime\n",
      "97 is prime\n",
      "good bye!\n"
     ]
    }
   ],
   "source": [
    "#nested loops\n",
    "#example2\n",
    "i = 2\n",
    "while(i<100):\n",
    "    j = 2\n",
    "    while(j <= (i/j)):\n",
    "        if not(i % j): break\n",
    "        j = j+1\n",
    "    if(j> i/j): print (i, \"is prime\")\n",
    "    i = i + 1\n",
    "        \n",
    "print (\"good bye!\")"
   ]
  },
  {
   "cell_type": "code",
   "execution_count": null,
   "id": "63baa00f",
   "metadata": {},
   "outputs": [],
   "source": []
  }
 ],
 "metadata": {
  "kernelspec": {
   "display_name": "Python 3 (ipykernel)",
   "language": "python",
   "name": "python3"
  },
  "language_info": {
   "codemirror_mode": {
    "name": "ipython",
    "version": 3
   },
   "file_extension": ".py",
   "mimetype": "text/x-python",
   "name": "python",
   "nbconvert_exporter": "python",
   "pygments_lexer": "ipython3",
   "version": "3.9.12"
  }
 },
 "nbformat": 4,
 "nbformat_minor": 5
}
